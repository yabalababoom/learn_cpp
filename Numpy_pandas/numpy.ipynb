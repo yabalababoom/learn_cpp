{
 "cells": [
  {
   "cell_type": "markdown",
   "metadata": {},
   "source": [
    "\n",
    "# 3.1.3 ndarray与Python原生list运算效率对比"
   ]
  },
  {
   "cell_type": "code",
   "execution_count": 6,
   "metadata": {},
   "outputs": [],
   "source": [
    "import numpy as np \n",
    "import random \n",
    "import time\n",
    "\n",
    "py_lst = []\n",
    "for i in range(100_000_000):\n",
    "    py_lst.append(random.random())"
   ]
  },
  {
   "cell_type": "code",
   "execution_count": 9,
   "metadata": {},
   "outputs": [],
   "source": [
    "ndarray_lst = [random.random() for _ in range(100_000_000)]\n"
   ]
  },
  {
   "cell_type": "code",
   "execution_count": 10,
   "metadata": {},
   "outputs": [
    {
     "name": "stdout",
     "output_type": "stream",
     "text": [
      "sum py_lst time: 5.36789083480835\n",
      "sum ndarray_lst time: 1.2718284130096436\n"
     ]
    }
   ],
   "source": [
    "t1 = time.time()\n",
    "a = sum(py_lst)\n",
    "t2 = time.time()\n",
    "rs1 = t2-t1\n",
    "print(f\"sum py_lst time: {rs1}\")\n",
    "\n",
    "t3 = time.time()\n",
    "a = sum(ndarray_lst)\n",
    "t4 = time.time()\n",
    "rs2 = t4-t3\n",
    "print(f\"sum ndarray_lst time: {rs2}\")"
   ]
  },
  {
   "cell_type": "markdown",
   "metadata": {},
   "source": [
    "## 1. 存储风格 \n",
    "从图中我们可以看出ndarray:在存储数据的时候,数据与数据的地址都是连续的,这样就给使得批量操作数组元素时速度更快.\n",
    "这是因为ndarray中的所有元素的类型都是相同的,而Python列表中的元素类型是任意的,所以ndarray在存储元素时内存可以连续,而oython.原生list就只能通过寻址方式找到下一个元素,这虽然也导致了在通用性能方面Numpy的ndarray不及Python原生Iist,但在科学计算中,Numpy 的ndarray就可以省掉很多循环语句,代码使用方面比Python原生Iist简单的多.\n",
    "\n",
    "## 2 ndarray支持并行化运算(向量化运算)\n",
    "## 3 Nupy底层使用C语言编写,内部解除了GL(全局解释器锁),其对数组的操作速度不受Python解释器的限制,效率远高于纯Python代码.\n"
   ]
  },
  {
   "cell_type": "markdown",
   "metadata": {},
   "source": [
    "# 3.2 ndarray 属性"
   ]
  },
  {
   "cell_type": "markdown",
   "metadata": {},
   "source": [
    " 属性名字                  属性解释\n",
    "ndarray.shape           数组维度的元组\n",
    "ndarray.ndim            数组维数(中括号个数)\n",
    "ndarray.size            数组中的元素数量\n",
    "ndarray.itemsize        一个数组元素的长度(字节)\n",
    "ndarray.dtype           数组元素的类型(默认数据类型:int64,8字节)\n"
   ]
  },
  {
   "cell_type": "markdown",
   "metadata": {},
   "source": [
    "# 3.3 基本操作"
   ]
  },
  {
   "cell_type": "code",
   "execution_count": null,
   "metadata": {},
   "outputs": [],
   "source": []
  }
 ],
 "metadata": {
  "kernelspec": {
   "display_name": "Python 3",
   "language": "python",
   "name": "python3"
  },
  "language_info": {
   "codemirror_mode": {
    "name": "ipython",
    "version": 3
   },
   "file_extension": ".py",
   "mimetype": "text/x-python",
   "name": "python",
   "nbconvert_exporter": "python",
   "pygments_lexer": "ipython3",
   "version": "3.12.4"
  }
 },
 "nbformat": 4,
 "nbformat_minor": 2
}

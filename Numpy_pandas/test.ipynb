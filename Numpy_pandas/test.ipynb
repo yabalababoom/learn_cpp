{
 "cells": [
  {
   "cell_type": "code",
   "execution_count": 10,
   "metadata": {},
   "outputs": [],
   "source": [
    "import collections\n",
    "Card = collections.namedtuple('Card', ['rank', 'suit'])\n",
    "class FrenchDeck:\n",
    "    ranks = [str(n) for n in range(2, 11)] + list('JQKA')\n",
    "    suits = 'spades diamonds clubs hearts'.split()\n",
    "    def __init__(self):\n",
    "        self._cards = [Card(rank, suit) for suit in self.suits\n",
    "                                        for rank in self.ranks]\n",
    "    def __len__(self):\n",
    "        return len(self._cards)\n",
    "    def __getitem__(self, position):\n",
    "        return self._cards[position]\n"
   ]
  },
  {
   "cell_type": "code",
   "execution_count": 52,
   "metadata": {},
   "outputs": [
    {
     "data": {
      "text/plain": [
       "__main__.Card"
      ]
     },
     "execution_count": 52,
     "metadata": {},
     "output_type": "execute_result"
    }
   ],
   "source": [
    "beer_card = Card('7', 'diamonds')\n",
    "type(beer_card)\n"
   ]
  },
  {
   "cell_type": "code",
   "execution_count": 20,
   "metadata": {},
   "outputs": [
    {
     "data": {
      "text/plain": [
       "52"
      ]
     },
     "execution_count": 20,
     "metadata": {},
     "output_type": "execute_result"
    }
   ],
   "source": [
    "deck = FrenchDeck()\n",
    "len(deck)  #52\n",
    "# deck[0]  #Card(rank='2', suit='spades')\n",
    "# deck[-1] #Card(rank='A', suit='hearts')"
   ]
  },
  {
   "cell_type": "code",
   "execution_count": 26,
   "metadata": {},
   "outputs": [
    {
     "data": {
      "text/plain": [
       "Card(rank='A', suit='hearts')"
      ]
     },
     "execution_count": 26,
     "metadata": {},
     "output_type": "execute_result"
    }
   ],
   "source": [
    "from random import choice\n",
    "choice(deck)  #choice() missing 1 required positional argument: 'seq'"
   ]
  },
  {
   "cell_type": "code",
   "execution_count": 31,
   "metadata": {},
   "outputs": [
    {
     "data": {
      "text/plain": [
       "[Card(rank='2', suit='spades'),\n",
       " Card(rank='3', suit='spades'),\n",
       " Card(rank='4', suit='spades')]"
      ]
     },
     "execution_count": 31,
     "metadata": {},
     "output_type": "execute_result"
    }
   ],
   "source": [
    "deck[:3]"
   ]
  },
  {
   "cell_type": "code",
   "execution_count": 32,
   "metadata": {},
   "outputs": [
    {
     "data": {
      "text/plain": [
       "[Card(rank='4', suit='spades')]"
      ]
     },
     "execution_count": 32,
     "metadata": {},
     "output_type": "execute_result"
    }
   ],
   "source": [
    "deck[2:3]"
   ]
  },
  {
   "cell_type": "code",
   "execution_count": 34,
   "metadata": {},
   "outputs": [
    {
     "name": "stdout",
     "output_type": "stream",
     "text": [
      "Card(rank='A', suit='hearts')\n",
      "Card(rank='K', suit='hearts')\n",
      "Card(rank='Q', suit='hearts')\n",
      "Card(rank='J', suit='hearts')\n",
      "Card(rank='10', suit='hearts')\n",
      "Card(rank='9', suit='hearts')\n",
      "Card(rank='8', suit='hearts')\n",
      "Card(rank='7', suit='hearts')\n",
      "Card(rank='6', suit='hearts')\n",
      "Card(rank='5', suit='hearts')\n",
      "Card(rank='4', suit='hearts')\n",
      "Card(rank='3', suit='hearts')\n",
      "Card(rank='2', suit='hearts')\n",
      "Card(rank='A', suit='clubs')\n",
      "Card(rank='K', suit='clubs')\n",
      "Card(rank='Q', suit='clubs')\n",
      "Card(rank='J', suit='clubs')\n",
      "Card(rank='10', suit='clubs')\n",
      "Card(rank='9', suit='clubs')\n",
      "Card(rank='8', suit='clubs')\n",
      "Card(rank='7', suit='clubs')\n",
      "Card(rank='6', suit='clubs')\n",
      "Card(rank='5', suit='clubs')\n",
      "Card(rank='4', suit='clubs')\n",
      "Card(rank='3', suit='clubs')\n",
      "Card(rank='2', suit='clubs')\n",
      "Card(rank='A', suit='diamonds')\n",
      "Card(rank='K', suit='diamonds')\n",
      "Card(rank='Q', suit='diamonds')\n",
      "Card(rank='J', suit='diamonds')\n",
      "Card(rank='10', suit='diamonds')\n",
      "Card(rank='9', suit='diamonds')\n",
      "Card(rank='8', suit='diamonds')\n",
      "Card(rank='7', suit='diamonds')\n",
      "Card(rank='6', suit='diamonds')\n",
      "Card(rank='5', suit='diamonds')\n",
      "Card(rank='4', suit='diamonds')\n",
      "Card(rank='3', suit='diamonds')\n",
      "Card(rank='2', suit='diamonds')\n",
      "Card(rank='A', suit='spades')\n",
      "Card(rank='K', suit='spades')\n",
      "Card(rank='Q', suit='spades')\n",
      "Card(rank='J', suit='spades')\n",
      "Card(rank='10', suit='spades')\n",
      "Card(rank='9', suit='spades')\n",
      "Card(rank='8', suit='spades')\n",
      "Card(rank='7', suit='spades')\n",
      "Card(rank='6', suit='spades')\n",
      "Card(rank='5', suit='spades')\n",
      "Card(rank='4', suit='spades')\n",
      "Card(rank='3', suit='spades')\n",
      "Card(rank='2', suit='spades')\n"
     ]
    }
   ],
   "source": [
    "for card in reversed(deck):\n",
    "    print(card)"
   ]
  },
  {
   "cell_type": "code",
   "execution_count": 75,
   "metadata": {},
   "outputs": [],
   "source": [
    "suit_values = dict(spades=3, hearts=2, diamonds=1, clubs=0)\n",
    "def spades_high(card):\n",
    "    print(\"inside:\",card)\n",
    "    # print(\"card.rank:\",card.rank)\n",
    "    # print(\"card.suit:\",card.suit)\n",
    "    rank_value = FrenchDeck.ranks.index(card.rank)\n",
    "    print(\"rank_value:\",rank_value)\n",
    "    print(\"len(suit_values):\",len(suit_values))\n",
    "    print(\"suit_values[card.suit]:\",suit_values[card.suit])\n",
    "    print(\"rerurn:\",rank_value * len(suit_values) + suit_values[card.suit])\n",
    "    print(15*\"*\")\n",
    "    return rank_value * len(suit_values) + suit_values[card.suit]"
   ]
  },
  {
   "cell_type": "code",
   "execution_count": 76,
   "metadata": {},
   "outputs": [
    {
     "name": "stdout",
     "output_type": "stream",
     "text": [
      "inside: Card(rank='2', suit='spades')\n",
      "rank_value: 0\n",
      "len(suit_values): 4\n",
      "suit_values[card.suit]: 3\n",
      "rerurn: 3\n",
      "***************\n",
      "inside: Card(rank='3', suit='spades')\n",
      "rank_value: 1\n",
      "len(suit_values): 4\n",
      "suit_values[card.suit]: 3\n",
      "rerurn: 7\n",
      "***************\n",
      "inside: Card(rank='4', suit='spades')\n",
      "rank_value: 2\n",
      "len(suit_values): 4\n",
      "suit_values[card.suit]: 3\n",
      "rerurn: 11\n",
      "***************\n",
      "inside: Card(rank='5', suit='spades')\n",
      "rank_value: 3\n",
      "len(suit_values): 4\n",
      "suit_values[card.suit]: 3\n",
      "rerurn: 15\n",
      "***************\n",
      "inside: Card(rank='6', suit='spades')\n",
      "rank_value: 4\n",
      "len(suit_values): 4\n",
      "suit_values[card.suit]: 3\n",
      "rerurn: 19\n",
      "***************\n",
      "inside: Card(rank='7', suit='spades')\n",
      "rank_value: 5\n",
      "len(suit_values): 4\n",
      "suit_values[card.suit]: 3\n",
      "rerurn: 23\n",
      "***************\n",
      "inside: Card(rank='8', suit='spades')\n",
      "rank_value: 6\n",
      "len(suit_values): 4\n",
      "suit_values[card.suit]: 3\n",
      "rerurn: 27\n",
      "***************\n",
      "inside: Card(rank='9', suit='spades')\n",
      "rank_value: 7\n",
      "len(suit_values): 4\n",
      "suit_values[card.suit]: 3\n",
      "rerurn: 31\n",
      "***************\n",
      "inside: Card(rank='10', suit='spades')\n",
      "rank_value: 8\n",
      "len(suit_values): 4\n",
      "suit_values[card.suit]: 3\n",
      "rerurn: 35\n",
      "***************\n",
      "inside: Card(rank='J', suit='spades')\n",
      "rank_value: 9\n",
      "len(suit_values): 4\n",
      "suit_values[card.suit]: 3\n",
      "rerurn: 39\n",
      "***************\n",
      "inside: Card(rank='Q', suit='spades')\n",
      "rank_value: 10\n",
      "len(suit_values): 4\n",
      "suit_values[card.suit]: 3\n",
      "rerurn: 43\n",
      "***************\n",
      "inside: Card(rank='K', suit='spades')\n",
      "rank_value: 11\n",
      "len(suit_values): 4\n",
      "suit_values[card.suit]: 3\n",
      "rerurn: 47\n",
      "***************\n",
      "inside: Card(rank='A', suit='spades')\n",
      "rank_value: 12\n",
      "len(suit_values): 4\n",
      "suit_values[card.suit]: 3\n",
      "rerurn: 51\n",
      "***************\n",
      "inside: Card(rank='2', suit='diamonds')\n",
      "rank_value: 0\n",
      "len(suit_values): 4\n",
      "suit_values[card.suit]: 1\n",
      "rerurn: 1\n",
      "***************\n",
      "inside: Card(rank='3', suit='diamonds')\n",
      "rank_value: 1\n",
      "len(suit_values): 4\n",
      "suit_values[card.suit]: 1\n",
      "rerurn: 5\n",
      "***************\n",
      "inside: Card(rank='4', suit='diamonds')\n",
      "rank_value: 2\n",
      "len(suit_values): 4\n",
      "suit_values[card.suit]: 1\n",
      "rerurn: 9\n",
      "***************\n",
      "inside: Card(rank='5', suit='diamonds')\n",
      "rank_value: 3\n",
      "len(suit_values): 4\n",
      "suit_values[card.suit]: 1\n",
      "rerurn: 13\n",
      "***************\n",
      "inside: Card(rank='6', suit='diamonds')\n",
      "rank_value: 4\n",
      "len(suit_values): 4\n",
      "suit_values[card.suit]: 1\n",
      "rerurn: 17\n",
      "***************\n",
      "inside: Card(rank='7', suit='diamonds')\n",
      "rank_value: 5\n",
      "len(suit_values): 4\n",
      "suit_values[card.suit]: 1\n",
      "rerurn: 21\n",
      "***************\n",
      "inside: Card(rank='8', suit='diamonds')\n",
      "rank_value: 6\n",
      "len(suit_values): 4\n",
      "suit_values[card.suit]: 1\n",
      "rerurn: 25\n",
      "***************\n",
      "inside: Card(rank='9', suit='diamonds')\n",
      "rank_value: 7\n",
      "len(suit_values): 4\n",
      "suit_values[card.suit]: 1\n",
      "rerurn: 29\n",
      "***************\n",
      "inside: Card(rank='10', suit='diamonds')\n",
      "rank_value: 8\n",
      "len(suit_values): 4\n",
      "suit_values[card.suit]: 1\n",
      "rerurn: 33\n",
      "***************\n",
      "inside: Card(rank='J', suit='diamonds')\n",
      "rank_value: 9\n",
      "len(suit_values): 4\n",
      "suit_values[card.suit]: 1\n",
      "rerurn: 37\n",
      "***************\n",
      "inside: Card(rank='Q', suit='diamonds')\n",
      "rank_value: 10\n",
      "len(suit_values): 4\n",
      "suit_values[card.suit]: 1\n",
      "rerurn: 41\n",
      "***************\n",
      "inside: Card(rank='K', suit='diamonds')\n",
      "rank_value: 11\n",
      "len(suit_values): 4\n",
      "suit_values[card.suit]: 1\n",
      "rerurn: 45\n",
      "***************\n",
      "inside: Card(rank='A', suit='diamonds')\n",
      "rank_value: 12\n",
      "len(suit_values): 4\n",
      "suit_values[card.suit]: 1\n",
      "rerurn: 49\n",
      "***************\n",
      "inside: Card(rank='2', suit='clubs')\n",
      "rank_value: 0\n",
      "len(suit_values): 4\n",
      "suit_values[card.suit]: 0\n",
      "rerurn: 0\n",
      "***************\n",
      "inside: Card(rank='3', suit='clubs')\n",
      "rank_value: 1\n",
      "len(suit_values): 4\n",
      "suit_values[card.suit]: 0\n",
      "rerurn: 4\n",
      "***************\n",
      "inside: Card(rank='4', suit='clubs')\n",
      "rank_value: 2\n",
      "len(suit_values): 4\n",
      "suit_values[card.suit]: 0\n",
      "rerurn: 8\n",
      "***************\n",
      "inside: Card(rank='5', suit='clubs')\n",
      "rank_value: 3\n",
      "len(suit_values): 4\n",
      "suit_values[card.suit]: 0\n",
      "rerurn: 12\n",
      "***************\n",
      "inside: Card(rank='6', suit='clubs')\n",
      "rank_value: 4\n",
      "len(suit_values): 4\n",
      "suit_values[card.suit]: 0\n",
      "rerurn: 16\n",
      "***************\n",
      "inside: Card(rank='7', suit='clubs')\n",
      "rank_value: 5\n",
      "len(suit_values): 4\n",
      "suit_values[card.suit]: 0\n",
      "rerurn: 20\n",
      "***************\n",
      "inside: Card(rank='8', suit='clubs')\n",
      "rank_value: 6\n",
      "len(suit_values): 4\n",
      "suit_values[card.suit]: 0\n",
      "rerurn: 24\n",
      "***************\n",
      "inside: Card(rank='9', suit='clubs')\n",
      "rank_value: 7\n",
      "len(suit_values): 4\n",
      "suit_values[card.suit]: 0\n",
      "rerurn: 28\n",
      "***************\n",
      "inside: Card(rank='10', suit='clubs')\n",
      "rank_value: 8\n",
      "len(suit_values): 4\n",
      "suit_values[card.suit]: 0\n",
      "rerurn: 32\n",
      "***************\n",
      "inside: Card(rank='J', suit='clubs')\n",
      "rank_value: 9\n",
      "len(suit_values): 4\n",
      "suit_values[card.suit]: 0\n",
      "rerurn: 36\n",
      "***************\n",
      "inside: Card(rank='Q', suit='clubs')\n",
      "rank_value: 10\n",
      "len(suit_values): 4\n",
      "suit_values[card.suit]: 0\n",
      "rerurn: 40\n",
      "***************\n",
      "inside: Card(rank='K', suit='clubs')\n",
      "rank_value: 11\n",
      "len(suit_values): 4\n",
      "suit_values[card.suit]: 0\n",
      "rerurn: 44\n",
      "***************\n",
      "inside: Card(rank='A', suit='clubs')\n",
      "rank_value: 12\n",
      "len(suit_values): 4\n",
      "suit_values[card.suit]: 0\n",
      "rerurn: 48\n",
      "***************\n",
      "inside: Card(rank='2', suit='hearts')\n",
      "rank_value: 0\n",
      "len(suit_values): 4\n",
      "suit_values[card.suit]: 2\n",
      "rerurn: 2\n",
      "***************\n",
      "inside: Card(rank='3', suit='hearts')\n",
      "rank_value: 1\n",
      "len(suit_values): 4\n",
      "suit_values[card.suit]: 2\n",
      "rerurn: 6\n",
      "***************\n",
      "inside: Card(rank='4', suit='hearts')\n",
      "rank_value: 2\n",
      "len(suit_values): 4\n",
      "suit_values[card.suit]: 2\n",
      "rerurn: 10\n",
      "***************\n",
      "inside: Card(rank='5', suit='hearts')\n",
      "rank_value: 3\n",
      "len(suit_values): 4\n",
      "suit_values[card.suit]: 2\n",
      "rerurn: 14\n",
      "***************\n",
      "inside: Card(rank='6', suit='hearts')\n",
      "rank_value: 4\n",
      "len(suit_values): 4\n",
      "suit_values[card.suit]: 2\n",
      "rerurn: 18\n",
      "***************\n",
      "inside: Card(rank='7', suit='hearts')\n",
      "rank_value: 5\n",
      "len(suit_values): 4\n",
      "suit_values[card.suit]: 2\n",
      "rerurn: 22\n",
      "***************\n",
      "inside: Card(rank='8', suit='hearts')\n",
      "rank_value: 6\n",
      "len(suit_values): 4\n",
      "suit_values[card.suit]: 2\n",
      "rerurn: 26\n",
      "***************\n",
      "inside: Card(rank='9', suit='hearts')\n",
      "rank_value: 7\n",
      "len(suit_values): 4\n",
      "suit_values[card.suit]: 2\n",
      "rerurn: 30\n",
      "***************\n",
      "inside: Card(rank='10', suit='hearts')\n",
      "rank_value: 8\n",
      "len(suit_values): 4\n",
      "suit_values[card.suit]: 2\n",
      "rerurn: 34\n",
      "***************\n",
      "inside: Card(rank='J', suit='hearts')\n",
      "rank_value: 9\n",
      "len(suit_values): 4\n",
      "suit_values[card.suit]: 2\n",
      "rerurn: 38\n",
      "***************\n",
      "inside: Card(rank='Q', suit='hearts')\n",
      "rank_value: 10\n",
      "len(suit_values): 4\n",
      "suit_values[card.suit]: 2\n",
      "rerurn: 42\n",
      "***************\n",
      "inside: Card(rank='K', suit='hearts')\n",
      "rank_value: 11\n",
      "len(suit_values): 4\n",
      "suit_values[card.suit]: 2\n",
      "rerurn: 46\n",
      "***************\n",
      "inside: Card(rank='A', suit='hearts')\n",
      "rank_value: 12\n",
      "len(suit_values): 4\n",
      "suit_values[card.suit]: 2\n",
      "rerurn: 50\n",
      "***************\n",
      "outside: Card(rank='2', suit='clubs')\n",
      "outside: Card(rank='2', suit='diamonds')\n",
      "outside: Card(rank='2', suit='hearts')\n",
      "outside: Card(rank='2', suit='spades')\n",
      "outside: Card(rank='3', suit='clubs')\n",
      "outside: Card(rank='3', suit='diamonds')\n",
      "outside: Card(rank='3', suit='hearts')\n",
      "outside: Card(rank='3', suit='spades')\n",
      "outside: Card(rank='4', suit='clubs')\n",
      "outside: Card(rank='4', suit='diamonds')\n",
      "outside: Card(rank='4', suit='hearts')\n",
      "outside: Card(rank='4', suit='spades')\n",
      "outside: Card(rank='5', suit='clubs')\n",
      "outside: Card(rank='5', suit='diamonds')\n",
      "outside: Card(rank='5', suit='hearts')\n",
      "outside: Card(rank='5', suit='spades')\n",
      "outside: Card(rank='6', suit='clubs')\n",
      "outside: Card(rank='6', suit='diamonds')\n",
      "outside: Card(rank='6', suit='hearts')\n",
      "outside: Card(rank='6', suit='spades')\n",
      "outside: Card(rank='7', suit='clubs')\n",
      "outside: Card(rank='7', suit='diamonds')\n",
      "outside: Card(rank='7', suit='hearts')\n",
      "outside: Card(rank='7', suit='spades')\n",
      "outside: Card(rank='8', suit='clubs')\n",
      "outside: Card(rank='8', suit='diamonds')\n",
      "outside: Card(rank='8', suit='hearts')\n",
      "outside: Card(rank='8', suit='spades')\n",
      "outside: Card(rank='9', suit='clubs')\n",
      "outside: Card(rank='9', suit='diamonds')\n",
      "outside: Card(rank='9', suit='hearts')\n",
      "outside: Card(rank='9', suit='spades')\n",
      "outside: Card(rank='10', suit='clubs')\n",
      "outside: Card(rank='10', suit='diamonds')\n",
      "outside: Card(rank='10', suit='hearts')\n",
      "outside: Card(rank='10', suit='spades')\n",
      "outside: Card(rank='J', suit='clubs')\n",
      "outside: Card(rank='J', suit='diamonds')\n",
      "outside: Card(rank='J', suit='hearts')\n",
      "outside: Card(rank='J', suit='spades')\n",
      "outside: Card(rank='Q', suit='clubs')\n",
      "outside: Card(rank='Q', suit='diamonds')\n",
      "outside: Card(rank='Q', suit='hearts')\n",
      "outside: Card(rank='Q', suit='spades')\n",
      "outside: Card(rank='K', suit='clubs')\n",
      "outside: Card(rank='K', suit='diamonds')\n",
      "outside: Card(rank='K', suit='hearts')\n",
      "outside: Card(rank='K', suit='spades')\n",
      "outside: Card(rank='A', suit='clubs')\n",
      "outside: Card(rank='A', suit='diamonds')\n",
      "outside: Card(rank='A', suit='hearts')\n",
      "outside: Card(rank='A', suit='spades')\n"
     ]
    }
   ],
   "source": [
    "\n",
    "for card in sorted(deck, key=spades_high): # doctest: +ELLIPSIS\n",
    "    print(\"outside:\",card)\n",
    "    # break"
   ]
  },
  {
   "cell_type": "code",
   "execution_count": 79,
   "metadata": {},
   "outputs": [],
   "source": [
    "from math import hypot\n",
    "class Vector:\n",
    "    def __init__(self, x=0, y=0):\n",
    "        self.x = x\n",
    "        self.y = y\n",
    "    def __repr__(self):\n",
    "        return 'Vector(%r, %r)' % (self.x, self.y)\n",
    "    def __abs__(self):\n",
    "        return hypot(self.x, self.y)\n",
    "    def __bool__(self):\n",
    "        return bool(abs(self))\n",
    "    def __add__(self, other):\n",
    "        x = self.x + other.x\n",
    "        y = self.y + other.y\n",
    "        return Vector(x, y)\n",
    "    def __mul__(self, scalar):\n",
    "        return Vector(self.x * scalar, self.y * scalar)"
   ]
  },
  {
   "cell_type": "code",
   "execution_count": 80,
   "metadata": {},
   "outputs": [
    {
     "name": "stdout",
     "output_type": "stream",
     "text": [
      "black S\n",
      "black M\n",
      "black L\n",
      "white S\n",
      "white M\n",
      "white L\n"
     ]
    }
   ],
   "source": [
    "colors = ['black', 'white']\n",
    "sizes = ['S', 'M', 'L']\n",
    "for tshirt in ('%s %s' % (c, s) for c in colors for s in sizes):\n",
    "    print(tshirt)\n"
   ]
  },
  {
   "cell_type": "code",
   "execution_count": 81,
   "metadata": {},
   "outputs": [
    {
     "name": "stdout",
     "output_type": "stream",
     "text": [
      "                |   lat.    |   long.  \n",
      "Mexico City     |   19.4333 |  -99.1333\n",
      "New York-Newark |   40.8086 |  -74.0204\n",
      "Sao Paulo       |  -23.5478 |  -46.6358\n"
     ]
    }
   ],
   "source": [
    "metro_areas = [\n",
    "    ('Tokyo','JP',36.933,(35.689722,139.691667)), # ➊\n",
    "    ('Delhi NCR', 'IN', 21.935, (28.613889, 77.208889)),\n",
    "    ('Mexico City', 'MX', 20.142, (19.433333, -99.133333)),\n",
    "    ('New York-Newark', 'US', 20.104, (40.808611, -74.020386)),\n",
    "    ('Sao Paulo', 'BR', 19.649, (-23.547778, -46.635833)),\n",
    "    ]\n",
    "print('{:15} | {:^9} | {:^9}'.format('', 'lat.', 'long.'))\n",
    "fmt = '{:15} | {:9.4f} | {:9.4f}'\n",
    "\n",
    "for name, cc, pop, (latitude, longitude) in metro_areas: # ➋\n",
    "    if longitude <= 0: # ➌\n",
    "        print(fmt.format(name, latitude, longitude))"
   ]
  },
  {
   "cell_type": "code",
   "execution_count": 92,
   "metadata": {},
   "outputs": [
    {
     "name": "stdout",
     "output_type": "stream",
     "text": [
      "LatLong:  <class 'type'>\n",
      "delhi_data:  ('Delhi NCR', 'IN', 21.935, LatLong(lat=28.613889, long=77.208889))\n",
      "delhi._asdict() : {'name': 'Delhi NCR', 'country': 'IN', 'population': 21.935, 'coordinates': LatLong(lat=28.613889, long=77.208889)}\n",
      "name: Delhi NCR\n",
      "country: IN\n",
      "population: 21.935\n",
      "coordinates: LatLong(lat=28.613889, long=77.208889)\n"
     ]
    }
   ],
   "source": [
    "# 定义和使用具名元组\n",
    "from collections import namedtuple\n",
    "\n",
    "##创建一个具名元组需要两个参数， 一个是类名， 另一个是类的各个字段的名字。 后者可以是由数个字符串组成的可迭代对象，或者是由空格分隔开的字段名组成的字符串。\n",
    "City = namedtuple('City', 'name country population coordinates')  \n",
    "\n",
    "tokyo = City('Tokyo', 'JP', 36.933, (35.689722, 139.691667))\n",
    "# print(tokyo )\n",
    "# print(tokyo.name)\n",
    "# print(tokyo.country)\n",
    "# print(tokyo.population)\n",
    "# print(tokyo.coordinates)\n",
    "# print(City._fields)\n",
    "\n",
    "\n",
    "LatLong = namedtuple('LatLong', 'lat long')\n",
    "print(\"LatLong: \",type(LatLong))\n",
    "\n",
    "delhi_data = ('Delhi NCR', 'IN', 21.935, LatLong(28.613889, 77.208889))\n",
    "print(\"delhi_data: \",delhi_data)\n",
    "# _make() 通过接受一个可迭代对象来生成这个类的一个实例， 它的作用跟 City(*delhi_data) 是一样的。\n",
    "delhi = City._make(delhi_data)\n",
    "\n",
    "#_asdict() 把具名元组以 collections.OrderedDict 的形式返回， 我们可以利用它来把元组里的信息友好地呈现出来。\n",
    "delhi._asdict() \n",
    "print(\"delhi._asdict() :\",delhi._asdict() )\n",
    "\n",
    "for key, value in delhi._asdict().items():\n",
    "    print(key + ':', value)"
   ]
  },
  {
   "cell_type": "code",
   "execution_count": 99,
   "metadata": {},
   "outputs": [
    {
     "name": "stdout",
     "output_type": "stream",
     "text": [
      "[0, 1, 2, 3, 4, 5, 6, 7, 8, 9]\n",
      "[0, 1, 20, 30, 5, 6, 7, 8, 9]\n",
      "[0, 1, 20, 30, 5, 8, 9]\n",
      "[0, 1, 20, 11, 5, 22, 9]\n",
      "[0, 1, 100, 22, 9]\n"
     ]
    }
   ],
   "source": [
    "l = list(range(10))\n",
    "print(l)\n",
    "\n",
    "l[2:5] = [20, 30]\n",
    "print(l)\n",
    "\n",
    "del l[5:7]\n",
    "print(l)\n",
    "\n",
    "l[3::2] = [11, 22]\n",
    "print(l)\n",
    "\n",
    "#如果赋值的对象是一个切片， 那么赋值语句的右侧必须是个可迭代对象。 即便只有单独一个值， 也要把它转换成可迭代的序列\n",
    "l[2:5] = [100]\n",
    "print(l)"
   ]
  },
  {
   "cell_type": "code",
   "execution_count": 105,
   "metadata": {},
   "outputs": [
    {
     "name": "stdout",
     "output_type": "stream",
     "text": [
      "[['_', '_', '_'], ['_', '_', '_'], ['_', '_', '_']]\n",
      "[['_', '_', '_'], ['_', '_', 'X'], ['_', '_', '_']]\n"
     ]
    }
   ],
   "source": [
    "board = [['_'] * 3 for i in range(3)]\n",
    "print(board)\n",
    "board[1][2] = 'X'\n",
    "print(board)"
   ]
  },
  {
   "cell_type": "code",
   "execution_count": 106,
   "metadata": {},
   "outputs": [
    {
     "name": "stdout",
     "output_type": "stream",
     "text": [
      "[['_', '_', '_'], ['_', '_', '_'], ['_', '_', '_']]\n",
      "[['_', '_', 'O'], ['_', '_', 'O'], ['_', '_', 'O']]\n"
     ]
    }
   ],
   "source": [
    "weird_board = [['_'] * 3] * 3 \n",
    "print(weird_board)\n",
    "weird_board[1][2] = 'O'  #一旦我们试图标记第 1 行第 2 列的元素，就立马暴露了列表内的 3个引用指向同一个对象的事实。\n",
    "print(weird_board)"
   ]
  },
  {
   "cell_type": "code",
   "execution_count": 110,
   "metadata": {},
   "outputs": [
    {
     "name": "stdout",
     "output_type": "stream",
     "text": [
      "2522263189824\n",
      "2522263189824\n",
      "____________________\n",
      "2522263986304\n",
      "2522263890144\n"
     ]
    }
   ],
   "source": [
    "l = [1, 2, 3]\n",
    "print(id(l))\n",
    "l *= 2\n",
    "print(id(l))\n",
    "\n",
    "print(\"_\"*20)\n",
    "t = (1, 2, 3)\n",
    "print(id(t))\n",
    "t *= 2\n",
    "print(id(t))\n"
   ]
  },
  {
   "cell_type": "code",
   "execution_count": 113,
   "metadata": {},
   "outputs": [
    {
     "ename": "TypeError",
     "evalue": "'tuple' object does not support item assignment",
     "output_type": "error",
     "traceback": [
      "\u001b[1;31m---------------------------------------------------------------------------\u001b[0m",
      "\u001b[1;31mTypeError\u001b[0m                                 Traceback (most recent call last)",
      "Input \u001b[1;32mIn [113]\u001b[0m, in \u001b[0;36m<cell line: 2>\u001b[1;34m()\u001b[0m\n\u001b[0;32m      1\u001b[0m t \u001b[38;5;241m=\u001b[39m (\u001b[38;5;241m1\u001b[39m, \u001b[38;5;241m2\u001b[39m, [\u001b[38;5;241m30\u001b[39m, \u001b[38;5;241m40\u001b[39m])\n\u001b[1;32m----> 2\u001b[0m t[\u001b[38;5;241m2\u001b[39m] \u001b[38;5;241m+\u001b[39m\u001b[38;5;241m=\u001b[39m [\u001b[38;5;241m50\u001b[39m, \u001b[38;5;241m60\u001b[39m]\n\u001b[0;32m      3\u001b[0m t\n",
      "\u001b[1;31mTypeError\u001b[0m: 'tuple' object does not support item assignment"
     ]
    }
   ],
   "source": [
    "t = (1, 2, [30, 40])\n",
    "t[2] += [50, 60]\n",
    "t"
   ]
  },
  {
   "cell_type": "code",
   "execution_count": 129,
   "metadata": {},
   "outputs": [
    {
     "name": "stdout",
     "output_type": "stream",
     "text": [
      "needle: 31\n",
      "position:  14\n",
      "31 @ 14:      |  |  |  |  |  |  |  |  |  |  |  |  |  |31\n",
      "--------------------------------------------------------------------------------\n",
      "needle: 30\n",
      "position:  14\n",
      "30 @ 14:      |  |  |  |  |  |  |  |  |  |  |  |  |  |30\n",
      "--------------------------------------------------------------------------------\n",
      "needle: 29\n",
      "position:  13\n",
      "29 @ 13:      |  |  |  |  |  |  |  |  |  |  |  |  |29\n",
      "--------------------------------------------------------------------------------\n",
      "needle: 23\n",
      "position:  11\n",
      "23 @ 11:      |  |  |  |  |  |  |  |  |  |  |23\n",
      "--------------------------------------------------------------------------------\n",
      "needle: 22\n",
      "position:  9\n",
      "22 @  9:      |  |  |  |  |  |  |  |  |22\n",
      "--------------------------------------------------------------------------------\n",
      "needle: 10\n",
      "position:  5\n",
      "10 @  5:      |  |  |  |  |10\n",
      "--------------------------------------------------------------------------------\n",
      "needle: 8\n",
      "position:  5\n",
      " 8 @  5:      |  |  |  |  |8 \n",
      "--------------------------------------------------------------------------------\n",
      "needle: 5\n",
      "position:  3\n",
      " 5 @  3:      |  |  |5 \n",
      "--------------------------------------------------------------------------------\n",
      "needle: 2\n",
      "position:  1\n",
      " 2 @  1:      |2 \n",
      "--------------------------------------------------------------------------------\n",
      "needle: 1\n",
      "position:  1\n",
      " 1 @  1:      |1 \n",
      "--------------------------------------------------------------------------------\n",
      "needle: 0\n",
      "position:  0\n",
      " 0 @  0:    0 \n",
      "--------------------------------------------------------------------------------\n"
     ]
    }
   ],
   "source": [
    "import bisect\n",
    "import sys\n",
    "\n",
    "HAYSTACK = [1, 4, 5, 6, 8, 12, 15, 20, 21, 23, 23, 26, 29, 30]\n",
    "NEEDLES = [0, 1, 2, 5, 8, 10, 22, 23, 29, 30, 31]\n",
    "ROW_FMT = '{0:2d} @ {1:2d}:    {2}{0:<2d}'\n",
    "\n",
    "def demo(bisect_fn):\n",
    "    for needle in reversed(NEEDLES):\n",
    "        position = bisect_fn(HAYSTACK, needle) \n",
    "        print(\"needle:\", needle)\n",
    "        print(\"position: \",position)\n",
    "        offset = position * '  |' \n",
    "        print(ROW_FMT.format(needle, position, offset))\n",
    "        print(\"-\"*80)\n",
    "    \n",
    "if __name__ == '__main__':\n",
    "    # if sys.argv[-1] == 'left':\n",
    "    #     bisect_fn = bisect.bisect_left\n",
    "    # else:\n",
    "    #     bisect_fn = bisect.bisect\n",
    "    bisect_fn = bisect.bisect\n",
    "    # print(\"bisect_fn\",bisect_fn)\n",
    "    # print('DEMO:', bisect_fn.__name__) \n",
    "    # print('haystack ->', ' '.join('%2d' % n for n in HAYSTACK))\n",
    "    demo(bisect_fn)   \n",
    "    "
   ]
  },
  {
   "cell_type": "code",
   "execution_count": 130,
   "metadata": {},
   "outputs": [
    {
     "data": {
      "text/plain": [
       "['F', 'A', 'C', 'C', 'B', 'A', 'A']"
      ]
     },
     "execution_count": 130,
     "metadata": {},
     "output_type": "execute_result"
    }
   ],
   "source": [
    "import bisect\n",
    "\n",
    "def grade(score, breakpoints=[60, 70, 80, 90], grades='FDCBA'):\n",
    "    i = bisect.bisect(breakpoints, score)\n",
    "    return grades[i]\n",
    "[grade(score) for score in [33, 99, 77, 70, 89, 90, 100]]"
   ]
  },
  {
   "cell_type": "code",
   "execution_count": 131,
   "metadata": {},
   "outputs": [
    {
     "name": "stdout",
     "output_type": "stream",
     "text": [
      "10 -> [10]\n",
      " 0 -> [0, 10]\n",
      " 6 -> [0, 6, 10]\n",
      " 8 -> [0, 6, 8, 10]\n",
      " 7 -> [0, 6, 7, 8, 10]\n",
      " 2 -> [0, 2, 6, 7, 8, 10]\n",
      "10 -> [0, 2, 6, 7, 8, 10, 10]\n"
     ]
    }
   ],
   "source": [
    "import bisect\n",
    "import random\n",
    "SIZE=7\n",
    "random.seed(1729)\n",
    "my_list = []\n",
    "for i in range(SIZE):\n",
    "    new_item = random.randrange(SIZE*2)\n",
    "    bisect.insort(my_list, new_item)\n",
    "    print('%2d ->' % new_item, my_list)"
   ]
  },
  {
   "cell_type": "code",
   "execution_count": 140,
   "metadata": {},
   "outputs": [
    {
     "name": "stdout",
     "output_type": "stream",
     "text": [
      "[ 0  1  2  3  4  5  6  7  8  9 10 11]\n",
      "<class 'numpy.ndarray'>\n",
      "(12,)\n",
      "[[ 0  1  2  3]\n",
      " [ 4  5  6  7]\n",
      " [ 8  9 10 11]]\n",
      "[ 8  9 10 11]\n",
      "9\n",
      "[1 5 9]\n",
      "[[ 0  4  8]\n",
      " [ 1  5  9]\n",
      " [ 2  6 10]\n",
      " [ 3  7 11]]\n"
     ]
    }
   ],
   "source": [
    "import numpy\n",
    "a = numpy.arange(12)\n",
    "print(a)\n",
    "print(type(a))\n",
    "print(a.shape)\n",
    "a.shape = 3, 4\n",
    "print(a)\n",
    "print(a[2])\n",
    "print(a[2, 1])#打印第 2 行第 1 列的元素\n",
    "print(a[:, 1] )#把第 1 列打印出来\n",
    "print(a.transpose() )#行和列交换"
   ]
  },
  {
   "cell_type": "markdown",
   "metadata": {},
   "source": [
    "# 示例 2-23 使用双向队列"
   ]
  },
  {
   "cell_type": "code",
   "execution_count": 149,
   "metadata": {},
   "outputs": [
    {
     "name": "stdout",
     "output_type": "stream",
     "text": [
      "deque([0, 1, 2, 3, 4, 5, 6, 7, 8, 9], maxlen=10)\n",
      "deque([7, 8, 9, 0, 1, 2, 3, 4, 5, 6], maxlen=10)\n",
      "deque([1, 2, 3, 4, 5, 6, 7, 8, 9, 0], maxlen=10)\n",
      "deque([-1, 1, 2, 3, 4, 5, 6, 7, 8, 9], maxlen=10)\n",
      "deque([3, 4, 5, 6, 7, 8, 9, 11, 22, 33], maxlen=10)\n",
      "deque([40, 30, 20, 10, 3, 4, 5, 6, 7, 8], maxlen=10)\n"
     ]
    }
   ],
   "source": [
    "from collections import deque\n",
    "\n",
    "\n",
    "#maxlen 是一个可选参数， 代表这个队列可以容纳的元素的数量, 一旦设定， 这个属性就不能修改了。\n",
    "dq = deque(range(10), maxlen=10)\n",
    "print(dq)\n",
    "\n",
    "# 队列的旋转操作接受一个参数 n， 当 n > 0 时， 队列的最右边的 n 个元素会被移动到队列的左边。 当 n < 0 时， 最左边的 n 个元素会被移动到右边。\n",
    "dq.rotate(3) \n",
    "print(dq)\n",
    "\n",
    "dq.rotate(-4)\n",
    "print(dq)\n",
    "\n",
    "#当试图对一个已满（len(d) == d.maxlen） 的队列做尾部添加操作的时候， 它头部的元素会被删除掉。 注意在下一行里， 元素 0 被删除了\n",
    "dq.appendleft(-1)\n",
    "print(dq)\n",
    "\n",
    "#在尾部添加 3 个元素的操作会挤掉 -1、 1 和 2。\n",
    "dq.extend([11, 22, 33])\n",
    "print(dq)\n",
    "\n",
    "#extendleft(iter) 方法会把迭代器里的元素逐个添加到双向队列的左边， 因此迭代器里的元素会逆序出现在队列里。\n",
    "dq.extendleft([10, 20, 30, 40])\n",
    "print(dq)\n"
   ]
  },
  {
   "cell_type": "code",
   "execution_count": 142,
   "metadata": {},
   "outputs": [],
   "source": []
  },
  {
   "cell_type": "code",
   "execution_count": 150,
   "metadata": {},
   "outputs": [
    {
     "data": {
      "text/plain": [
       "{'__name__': 'builtins',\n",
       " '__doc__': \"Built-in functions, exceptions, and other objects.\\n\\nNoteworthy: None is the `nil' object; Ellipsis represents `...' in slices.\",\n",
       " '__package__': '',\n",
       " '__loader__': _frozen_importlib.BuiltinImporter,\n",
       " '__spec__': ModuleSpec(name='builtins', loader=<class '_frozen_importlib.BuiltinImporter'>, origin='built-in'),\n",
       " '__build_class__': <function __build_class__>,\n",
       " '__import__': <function __import__>,\n",
       " 'abs': <function abs(x, /)>,\n",
       " 'all': <function all(iterable, /)>,\n",
       " 'any': <function any(iterable, /)>,\n",
       " 'ascii': <function ascii(obj, /)>,\n",
       " 'bin': <function bin(number, /)>,\n",
       " 'breakpoint': <function breakpoint>,\n",
       " 'callable': <function callable(obj, /)>,\n",
       " 'chr': <function chr(i, /)>,\n",
       " 'compile': <function compile(source, filename, mode, flags=0, dont_inherit=False, optimize=-1, *, _feature_version=-1)>,\n",
       " 'delattr': <function delattr(obj, name, /)>,\n",
       " 'dir': <function dir>,\n",
       " 'divmod': <function divmod(x, y, /)>,\n",
       " 'eval': <function eval(source, globals=None, locals=None, /)>,\n",
       " 'exec': <function exec(source, globals=None, locals=None, /)>,\n",
       " 'format': <function format(value, format_spec='', /)>,\n",
       " 'getattr': <function getattr>,\n",
       " 'globals': <function globals()>,\n",
       " 'hasattr': <function hasattr(obj, name, /)>,\n",
       " 'hash': <function hash(obj, /)>,\n",
       " 'hex': <function hex(number, /)>,\n",
       " 'id': <function id(obj, /)>,\n",
       " 'input': <bound method Kernel.raw_input of <ipykernel.ipkernel.IPythonKernel object at 0x0000024B3FCE1E20>>,\n",
       " 'isinstance': <function isinstance(obj, class_or_tuple, /)>,\n",
       " 'issubclass': <function issubclass(cls, class_or_tuple, /)>,\n",
       " 'iter': <function iter>,\n",
       " 'len': <function len(obj, /)>,\n",
       " 'locals': <function locals()>,\n",
       " 'max': <function max>,\n",
       " 'min': <function min>,\n",
       " 'next': <function next>,\n",
       " 'oct': <function oct(number, /)>,\n",
       " 'ord': <function ord(c, /)>,\n",
       " 'pow': <function pow(base, exp, mod=None)>,\n",
       " 'print': <function print>,\n",
       " 'repr': <function repr(obj, /)>,\n",
       " 'round': <function round(number, ndigits=None)>,\n",
       " 'setattr': <function setattr(obj, name, value, /)>,\n",
       " 'sorted': <function sorted(iterable, /, *, key=None, reverse=False)>,\n",
       " 'sum': <function sum(iterable, /, start=0)>,\n",
       " 'vars': <function vars>,\n",
       " 'None': None,\n",
       " 'Ellipsis': Ellipsis,\n",
       " 'NotImplemented': NotImplemented,\n",
       " 'False': False,\n",
       " 'True': True,\n",
       " 'bool': bool,\n",
       " 'memoryview': memoryview,\n",
       " 'bytearray': bytearray,\n",
       " 'bytes': bytes,\n",
       " 'classmethod': classmethod,\n",
       " 'complex': complex,\n",
       " 'dict': dict,\n",
       " 'enumerate': enumerate,\n",
       " 'filter': filter,\n",
       " 'float': float,\n",
       " 'frozenset': frozenset,\n",
       " 'property': property,\n",
       " 'int': int,\n",
       " 'list': list,\n",
       " 'map': map,\n",
       " 'object': object,\n",
       " 'range': range,\n",
       " 'reversed': reversed,\n",
       " 'set': set,\n",
       " 'slice': slice,\n",
       " 'staticmethod': staticmethod,\n",
       " 'str': str,\n",
       " 'super': super,\n",
       " 'tuple': tuple,\n",
       " 'type': type,\n",
       " 'zip': zip,\n",
       " '__debug__': True,\n",
       " 'BaseException': BaseException,\n",
       " 'Exception': Exception,\n",
       " 'TypeError': TypeError,\n",
       " 'StopAsyncIteration': StopAsyncIteration,\n",
       " 'StopIteration': StopIteration,\n",
       " 'GeneratorExit': GeneratorExit,\n",
       " 'SystemExit': SystemExit,\n",
       " 'KeyboardInterrupt': KeyboardInterrupt,\n",
       " 'ImportError': ImportError,\n",
       " 'ModuleNotFoundError': ModuleNotFoundError,\n",
       " 'OSError': OSError,\n",
       " 'EnvironmentError': OSError,\n",
       " 'IOError': OSError,\n",
       " 'WindowsError': OSError,\n",
       " 'EOFError': EOFError,\n",
       " 'RuntimeError': RuntimeError,\n",
       " 'RecursionError': RecursionError,\n",
       " 'NotImplementedError': NotImplementedError,\n",
       " 'NameError': NameError,\n",
       " 'UnboundLocalError': UnboundLocalError,\n",
       " 'AttributeError': AttributeError,\n",
       " 'SyntaxError': SyntaxError,\n",
       " 'IndentationError': IndentationError,\n",
       " 'TabError': TabError,\n",
       " 'LookupError': LookupError,\n",
       " 'IndexError': IndexError,\n",
       " 'KeyError': KeyError,\n",
       " 'ValueError': ValueError,\n",
       " 'UnicodeError': UnicodeError,\n",
       " 'UnicodeEncodeError': UnicodeEncodeError,\n",
       " 'UnicodeDecodeError': UnicodeDecodeError,\n",
       " 'UnicodeTranslateError': UnicodeTranslateError,\n",
       " 'AssertionError': AssertionError,\n",
       " 'ArithmeticError': ArithmeticError,\n",
       " 'FloatingPointError': FloatingPointError,\n",
       " 'OverflowError': OverflowError,\n",
       " 'ZeroDivisionError': ZeroDivisionError,\n",
       " 'SystemError': SystemError,\n",
       " 'ReferenceError': ReferenceError,\n",
       " 'MemoryError': MemoryError,\n",
       " 'BufferError': BufferError,\n",
       " 'Warning': Warning,\n",
       " 'UserWarning': UserWarning,\n",
       " 'DeprecationWarning': DeprecationWarning,\n",
       " 'PendingDeprecationWarning': PendingDeprecationWarning,\n",
       " 'SyntaxWarning': SyntaxWarning,\n",
       " 'RuntimeWarning': RuntimeWarning,\n",
       " 'FutureWarning': FutureWarning,\n",
       " 'ImportWarning': ImportWarning,\n",
       " 'UnicodeWarning': UnicodeWarning,\n",
       " 'BytesWarning': BytesWarning,\n",
       " 'ResourceWarning': ResourceWarning,\n",
       " 'ConnectionError': ConnectionError,\n",
       " 'BlockingIOError': BlockingIOError,\n",
       " 'BrokenPipeError': BrokenPipeError,\n",
       " 'ChildProcessError': ChildProcessError,\n",
       " 'ConnectionAbortedError': ConnectionAbortedError,\n",
       " 'ConnectionRefusedError': ConnectionRefusedError,\n",
       " 'ConnectionResetError': ConnectionResetError,\n",
       " 'FileExistsError': FileExistsError,\n",
       " 'FileNotFoundError': FileNotFoundError,\n",
       " 'IsADirectoryError': IsADirectoryError,\n",
       " 'NotADirectoryError': NotADirectoryError,\n",
       " 'InterruptedError': InterruptedError,\n",
       " 'PermissionError': PermissionError,\n",
       " 'ProcessLookupError': ProcessLookupError,\n",
       " 'TimeoutError': TimeoutError,\n",
       " 'open': <function io.open(file, mode='r', buffering=-1, encoding=None, errors=None, newline=None, closefd=True, opener=None)>,\n",
       " 'copyright': Copyright (c) 2001-2022 Python Software Foundation.\n",
       " All Rights Reserved.\n",
       " \n",
       " Copyright (c) 2000 BeOpen.com.\n",
       " All Rights Reserved.\n",
       " \n",
       " Copyright (c) 1995-2001 Corporation for National Research Initiatives.\n",
       " All Rights Reserved.\n",
       " \n",
       " Copyright (c) 1991-1995 Stichting Mathematisch Centrum, Amsterdam.\n",
       " All Rights Reserved.,\n",
       " 'credits':     Thanks to CWI, CNRI, BeOpen.com, Zope Corporation and a cast of thousands\n",
       "     for supporting Python development.  See www.python.org for more information.,\n",
       " 'license': See https://www.python.org/psf/license/,\n",
       " 'help': Type help() for interactive help, or help(object) for help about object.,\n",
       " 'execfile': <function _pydev_imps._pydev_execfile.execfile(file, glob=None, loc=None)>,\n",
       " 'runfile': <function _pydev_bundle.pydev_umd.runfile(filename, args=None, wdir=None, namespace=None)>,\n",
       " '__IPYTHON__': True,\n",
       " 'display': <function IPython.core.display_functions.display(*objs, include=None, exclude=None, metadata=None, transient=None, display_id=None, raw=False, clear=False, **kwargs)>,\n",
       " 'get_ipython': <bound method InteractiveShell.get_ipython of <ipykernel.zmqshell.ZMQInteractiveShell object at 0x0000024B3FD0B3D0>>}"
      ]
     },
     "execution_count": 150,
     "metadata": {},
     "output_type": "execute_result"
    }
   ],
   "source": [
    "__builtins__.__dict__"
   ]
  },
  {
   "cell_type": "code",
   "execution_count": null,
   "metadata": {},
   "outputs": [],
   "source": [
    "import collections\n",
    "\n",
    "class StrKeyDict(collections.UserDict):\n",
    "    def __missing__(self, key):\n",
    "        if isinstance(key, str): #如果找不到的键本身就是字符串， 那就抛出 KeyError 异常。\n",
    "            raise KeyError(key)\n",
    "        return self[str(key)]    #如果找不到的键不是字符串， 那么把它转换成字符串再进行查找\n",
    "    \n",
    "    def __contains__(self, key):\n",
    "        return str(key) in self.data\n",
    "    \n",
    "    def __setitem__(self, key, item): #把所有的键都转换成字符串。 把具体的实现委托给了 self.data 属性\n",
    "        self.data[str(key)] = item\n",
    "    \n",
    "\n"
   ]
  },
  {
   "cell_type": "code",
   "execution_count": 151,
   "metadata": {},
   "outputs": [
    {
     "name": "stdout",
     "output_type": "stream",
     "text": [
      "  1           0 LOAD_CONST               0 (1)\n",
      "              2 BUILD_SET                1\n",
      "              4 RETURN_VALUE\n"
     ]
    }
   ],
   "source": [
    "from dis import dis\n",
    "dis('{1}') "
   ]
  },
  {
   "cell_type": "code",
   "execution_count": 152,
   "metadata": {},
   "outputs": [
    {
     "name": "stdout",
     "output_type": "stream",
     "text": [
      "  1           0 LOAD_NAME                0 (set)\n",
      "              2 LOAD_CONST               0 (1)\n",
      "              4 BUILD_LIST               1\n",
      "              6 CALL_FUNCTION            1\n",
      "              8 RETURN_VALUE\n"
     ]
    }
   ],
   "source": [
    "from dis import dis\n",
    "dis('set([1])') "
   ]
  },
  {
   "cell_type": "markdown",
   "metadata": {},
   "source": [
    "# 示例 4-1 编码和解码"
   ]
  },
  {
   "cell_type": "code",
   "execution_count": 156,
   "metadata": {},
   "outputs": [
    {
     "name": "stdout",
     "output_type": "stream",
     "text": [
      "4\n",
      "b'caf\\xc3\\xa9'\n",
      "5\n",
      "café\n"
     ]
    }
   ],
   "source": [
    "s = 'café'\n",
    "print(len(s))\n",
    "b = s.encode('utf-8')#使用 UTF-8 把 str 对象编码成 bytes 对象。\n",
    "print(b)\n",
    "print(len(b))\n",
    "U+FFFD REPLACEMENT CHARACTERprint(b.decode('utf-8')) #使用 UTF-8 把 b 对象解码成 str 对象"
   ]
  },
  {
   "cell_type": "code",
   "execution_count": 40,
   "metadata": {},
   "outputs": [
    {
     "name": "stdout",
     "output_type": "stream",
     "text": [
      "U+FFFDU+FFFD\n",
      "锟斤拷\n"
     ]
    }
   ],
   "source": [
    "s = 'U+FFFDU+FFFD'.encode('utf-8')\n",
    "print(s.decode('GBK'))\n",
    "s2 = b'\\xef\\xbf\\xbd\\xef\\xbf\\xbd'\n",
    "print(s2.decode('GBK'))\n",
    "\n",
    "\n",
    "\n"
   ]
  },
  {
   "cell_type": "code",
   "execution_count": 188,
   "metadata": {},
   "outputs": [
    {
     "name": "stdout",
     "output_type": "stream",
     "text": [
      "b'caf\\xc3\\xa9'\n",
      "99 97 102 195 169\n",
      "b'c'\n",
      "c\n",
      "bytearray(b'caf\\xc3\\xa9')\n",
      "bytearray(b'\\xc3\\xa9')\n"
     ]
    }
   ],
   "source": [
    "cafe = bytes('café', encoding='utf_8') # bytes 对象可以从 str 对象使用给定的编码构建\n",
    "print(cafe)\n",
    "print(cafe[0],cafe[1],cafe[2],cafe[3],cafe[4])\n",
    "\n",
    "print(cafe[:1]) # 字节码为b'c'\n",
    "print(cafe[:1].decode('utf-8'))\n",
    "\n",
    "cafe_arr = bytearray(cafe)\n",
    "print(cafe_arr)\n",
    "print(cafe_arr[-2:] )"
   ]
  },
  {
   "cell_type": "code",
   "execution_count": 227,
   "metadata": {},
   "outputs": [
    {
     "name": "stdout",
     "output_type": "stream",
     "text": [
      "array('h', [-2, -1, 0, 1, 2])\n",
      "b'\\xfe\\xff\\xff\\xff\\x00\\x00\\x01\\x00\\x02\\x00'\n"
     ]
    }
   ],
   "source": [
    "import array\n",
    "numbers = array.array('h',[-2,-1,0,1,2])\n",
    "print(numbers)\n",
    "octets = bytes(numbers)\n",
    "\n",
    "print(octets)\n",
    "# print(octets.decode('utf-8'))"
   ]
  },
  {
   "cell_type": "code",
   "execution_count": 229,
   "metadata": {},
   "outputs": [
    {
     "name": "stdout",
     "output_type": "stream",
     "text": [
      "latin_1\t\tb'El Ni\\xf1o'\n",
      "utf_8\t\tb'El Ni\\xc3\\xb1o'\n",
      "utf_16\t\tb'\\xff\\xfeE\\x00l\\x00 \\x00N\\x00i\\x00\\xf1\\x00o\\x00'\n"
     ]
    }
   ],
   "source": [
    "for codec in ['latin_1', 'utf_8', 'utf_16']:\n",
    "    print(codec, 'El Niño'.encode(codec), sep='\\t\\t')"
   ]
  },
  {
   "cell_type": "code",
   "execution_count": 233,
   "metadata": {},
   "outputs": [
    {
     "name": "stdout",
     "output_type": "stream",
     "text": [
      "b'S\\xc3\\xa3o Paulo'\n",
      "b'\\xff\\xfeS\\x00\\xe3\\x00o\\x00 \\x00P\\x00a\\x00u\\x00l\\x00o\\x00'\n",
      "b'S\\xe3o Paulo'\n",
      "--------------------\n",
      "b'So Paulo'\n",
      "b'S?o Paulo'\n",
      "b'S&#227;o Paulo'\n"
     ]
    }
   ],
   "source": [
    "## 示例 4-6 编码成字节序列： 成功和错误处理\n",
    "city = 'São Paulo'\n",
    "print(city.encode('utf_8') )\n",
    "print(city.encode('utf_16'))\n",
    "print(city.encode('iso8859_1') )\n",
    "print(\"-\"*20)\n",
    "print(city.encode('cp437', errors='ignore')) #跳过无法编码的字符； 这样做通常很是不妥\n",
    "print(city.encode('cp437', errors='replace'))  #无法编码的字符替换成 '?'\n",
    "print(city.encode('cp437', errors='xmlcharrefreplace')) #把无法编码的字符替换成 XML实体\n",
    "\n"
   ]
  },
  {
   "cell_type": "code",
   "execution_count": 234,
   "metadata": {},
   "outputs": [
    {
     "name": "stdout",
     "output_type": "stream",
     "text": [
      "Montréal\n",
      "Montrιal\n",
      "MontrИal\n",
      "Montr�al\n"
     ]
    }
   ],
   "source": [
    "# 示例 4-7 把字节序列解码成字符串： 成功和错误处理\n",
    "octets = b'Montr\\xe9al'\n",
    "print(octets.decode('cp1252') )\n",
    "print(octets.decode('iso8859_7'))\n",
    "print(octets.decode('koi8_r'))\n",
    "# print(octets.decode('utf_8'))\n",
    "print(octets.decode('utf_8', errors='replace') ) #使用 'replace' 错误处理方式， \\xe9 替换成了“ �”"
   ]
  },
  {
   "cell_type": "code",
   "execution_count": 11,
   "metadata": {},
   "outputs": [
    {
     "name": "stdout",
     "output_type": "stream",
     "text": [
      "4 5\n",
      "4 4\n",
      "5 5\n",
      "True\n",
      "True\n"
     ]
    }
   ],
   "source": [
    "from unicodedata import normalize\n",
    "s1 = 'café' # 把\"e\"和重音符组合在一起\n",
    "s2 = 'cafe\\u0301' # 分解成\"e\"和重音符\n",
    "print(len(s1), len(s2))\n",
    "\n",
    "print(len(normalize('NFC', s1)), len(normalize('NFC', s2)))\n",
    "\n",
    "print(len(normalize('NFD', s1)), len(normalize('NFD', s2)))\n",
    "\n",
    "print(normalize('NFC', s1) == normalize('NFC', s2))\n",
    "print(normalize('NFD', s1) == normalize('NFD', s2))"
   ]
  },
  {
   "cell_type": "code",
   "execution_count": 14,
   "metadata": {},
   "outputs": [
    {
     "name": "stdout",
     "output_type": "stream",
     "text": [
      "1⁄2\n",
      "42\n",
      "956 956\n",
      "GREEK SMALL LETTER MU GREEK SMALL LETTER MU\n"
     ]
    }
   ],
   "source": [
    "from unicodedata import normalize, name\n",
    "half = '½'\n",
    "print(normalize('NFKC', half))\n",
    "\n",
    "four_squared = '4²'\n",
    "print(normalize('NFKC', four_squared))\n",
    "\n",
    "micro = 'μ'\n",
    "micro_kc = normalize('NFKC', micro)\n",
    "\n",
    "\n",
    "print(ord(micro), ord(micro_kc))\n",
    "\n",
    "print(name(micro), name(micro_kc))"
   ]
  },
  {
   "cell_type": "code",
   "execution_count": 17,
   "metadata": {},
   "outputs": [
    {
     "name": "stdout",
     "output_type": "stream",
     "text": [
      "“Herr Voß: • ½ cup of OEtker™ caffè latte • bowl of açaí.”\n",
      "“Herr Voß: • ½ cup of OEtker™ caffe latte • bowl of acai.”\n"
     ]
    },
    {
     "data": {
      "text/plain": [
       "'“Herr Voß: • ½ cup of OEtker™ caffe latte • bowl of acai.”'"
      ]
     },
     "execution_count": 17,
     "metadata": {},
     "output_type": "execute_result"
    }
   ],
   "source": [
    "import unicodedata\n",
    "import string\n",
    "\n",
    "def shave_marks(txt):\n",
    "    \"\"\"去掉全部变音符号\"\"\"\n",
    "    norm_txt = unicodedata.normalize('NFD', txt)  #把所有字符分解成基字符和组合记号\n",
    "    print(norm_txt)\n",
    "    shaved = ''.join(c for c in norm_txt if not unicodedata.combining(c)) # 过滤掉所有组合记号\n",
    "    print(shaved)\n",
    "    return unicodedata.normalize('NFC', shaved) \n",
    "\n",
    "order = '“Herr Voß: • ½ cup of OEtker™ caffè latte • bowl of açaí.”'\n",
    "shave_marks(order)"
   ]
  },
  {
   "cell_type": "code",
   "execution_count": 41,
   "metadata": {},
   "outputs": [
    {
     "data": {
      "text/plain": [
       "['fig', 'apple', 'cherry', 'banana', 'raspberry', 'strawberry']"
      ]
     },
     "execution_count": 41,
     "metadata": {},
     "output_type": "execute_result"
    }
   ],
   "source": [
    "fruits = ['strawberry', 'fig', 'apple', 'cherry', 'raspberry', 'banana']\n",
    "\n",
    "sorted(fruits, key=len)"
   ]
  },
  {
   "cell_type": "code",
   "execution_count": 52,
   "metadata": {},
   "outputs": [
    {
     "data": {
      "text/plain": [
       "['banana', 'apple', 'fig', 'raspberry', 'strawberry', 'cherry']"
      ]
     },
     "execution_count": 52,
     "metadata": {},
     "output_type": "execute_result"
    }
   ],
   "source": [
    "def reverse(word):\n",
    "    return word[::-1] #反转字符串，步长必须是负值\n",
    "# reverse('testing')\n",
    "\n",
    "fruits = ['strawberry', 'fig', 'apple', 'cherry', 'raspberry', 'banana']\n",
    "sorted(fruits, key=reverse)"
   ]
  },
  {
   "cell_type": "code",
   "execution_count": 50,
   "metadata": {},
   "outputs": [
    {
     "data": {
      "text/plain": [
       "['banana', 'apple', 'fig', 'raspberry', 'strawberry', 'cherry']"
      ]
     },
     "execution_count": 50,
     "metadata": {},
     "output_type": "execute_result"
    }
   ],
   "source": [
    "#示例 5-7 使用 lambda 表达式反转拼写， 然后依此给单词列表排序\n",
    "fruits = ['strawberry', 'fig', 'apple', 'cherry', 'raspberry', 'banana']\n",
    "sorted(fruits, key=lambda word: word[::-1])\n"
   ]
  },
  {
   "cell_type": "code",
   "execution_count": 64,
   "metadata": {},
   "outputs": [
    {
     "data": {
      "text/plain": [
       "0"
      ]
     },
     "execution_count": 64,
     "metadata": {},
     "output_type": "execute_result"
    }
   ],
   "source": [
    "#调用 BingoCage 实例， 从打乱的列表中取出一个元素\n",
    "\n",
    "import random\n",
    "\n",
    "class BingoCage:\n",
    "\n",
    "    def __init__(self, items):\n",
    "        self._items = list(items) \n",
    "        random.shuffle(self._items) #random.shuffle()用于将一个列表中的元素打乱顺序\n",
    "\n",
    "\n",
    "    def pick(self): \n",
    "        try:\n",
    "            return self._items.pop()\n",
    "        except IndexError:\n",
    "            raise LookupError('pick from empty BingoCage') \n",
    "        \n",
    "    def __call__(self): \n",
    "        return self.pick()\n",
    "\n",
    "\n",
    "bingo = BingoCage(range(3))\n",
    "bingo.pick()\n",
    "bingo()\n",
    "\n"
   ]
  },
  {
   "cell_type": "code",
   "execution_count": 72,
   "metadata": {},
   "outputs": [
    {
     "name": "stdout",
     "output_type": "stream",
     "text": [
      "br () None {}\n",
      "p ('hello',) None {}\n",
      "p ('hello', 'world') None {}\n",
      "<p>hello</p>\n",
      "<p>world</p>\n",
      "p ('hello',) None {'id': 33}\n",
      "p ('hello', 'world') sidebar {}\n",
      "<p class=\"sidebar\">hello</p>\n",
      "<p class=\"sidebar\">world</p>\n"
     ]
    }
   ],
   "source": [
    "def tag(name, *content, cls=None, **attrs):\n",
    "    print(name, content, cls, attrs)\n",
    "    \"\"\"生成一个或多个HTML标签\"\"\"\n",
    "    if cls is not None:\n",
    "        attrs['class'] = cls\n",
    "        \n",
    "    if attrs:\n",
    "        attr_str = ''.join(' %s=\"%s\"' % (attr, value)  for attr, value in sorted(attrs.items()))\n",
    "    else:\n",
    "        attr_str = ''\n",
    "        \n",
    "    if content:\n",
    "        return '\\n'.join('<%s%s>%s</%s>' % (name, attr_str, c, name) for c in content)\n",
    "    else:\n",
    "        return '<%s%s />' % (name, attr_str)\n",
    "    \n",
    "    \n",
    "tag('br')\n",
    "tag('p', 'hello')\n",
    "print(tag('p', 'hello', 'world'))\n",
    "tag('p', 'hello', id=33)\n",
    "print(tag('p', 'hello', 'world', cls='sidebar'))"
   ]
  },
  {
   "cell_type": "code",
   "execution_count": 2,
   "metadata": {},
   "outputs": [
    {
     "name": "stdout",
     "output_type": "stream",
     "text": [
      "running register(<function f1 at 0x000002EA9ED30AF0>)\n",
      "running register(<function f2 at 0x000002EA9ED30C10>)\n",
      "running main()\n",
      "registry -> [<function f1 at 0x000002EA9ED30AF0>, <function f2 at 0x000002EA9ED30C10>]\n",
      "running f1()\n",
      "running f2()\n",
      "running f3()\n"
     ]
    }
   ],
   "source": [
    "registry = [] \n",
    "def register(func): \n",
    "    print('running register(%s)' % func) \n",
    "    registry.append(func) \n",
    "    return func \n",
    "\n",
    "@register \n",
    "def f1():\n",
    "    print('running f1()')\n",
    "    \n",
    "@register\n",
    "def f2():\n",
    "    print('running f2()')\n",
    "    \n",
    "def f3(): \n",
    "    print('running f3()')\n",
    "\n",
    "\n",
    "def main(): \n",
    "    print('running main()')\n",
    "    print('registry ->', registry)\n",
    "    f1()\n",
    "    f2()\n",
    "    f3()\n",
    "if __name__=='__main__':\n",
    "    main()"
   ]
  },
  {
   "cell_type": "code",
   "execution_count": 6,
   "metadata": {},
   "outputs": [
    {
     "name": "stdout",
     "output_type": "stream",
     "text": [
      "  4           0 LOAD_GLOBAL              0 (print)\n",
      "              2 LOAD_FAST                0 (a)\n",
      "              4 CALL_FUNCTION            1\n",
      "              6 POP_TOP\n",
      "\n",
      "  5           8 LOAD_GLOBAL              0 (print)\n",
      "             10 LOAD_GLOBAL              1 (b)\n",
      "             12 CALL_FUNCTION            1\n",
      "             14 POP_TOP\n",
      "             16 LOAD_CONST               0 (None)\n",
      "             18 RETURN_VALUE\n"
     ]
    }
   ],
   "source": [
    "from dis import dis\n",
    "b = 6\n",
    "def f1(a):\n",
    "    print(a)\n",
    "    print(b)\n",
    "    \n",
    "# f1(3)\n",
    "dis(f1)"
   ]
  },
  {
   "cell_type": "code",
   "execution_count": 7,
   "metadata": {},
   "outputs": [
    {
     "name": "stdout",
     "output_type": "stream",
     "text": [
      "  4           0 LOAD_GLOBAL              0 (print)\n",
      "              2 LOAD_FAST                0 (a)\n",
      "              4 CALL_FUNCTION            1\n",
      "              6 POP_TOP\n",
      "\n",
      "  5           8 LOAD_GLOBAL              0 (print)\n",
      "             10 LOAD_FAST                1 (b)\n",
      "             12 CALL_FUNCTION            1\n",
      "             14 POP_TOP\n",
      "\n",
      "  6          16 LOAD_CONST               1 (9)\n",
      "             18 STORE_FAST               1 (b)\n",
      "             20 LOAD_CONST               0 (None)\n",
      "             22 RETURN_VALUE\n"
     ]
    }
   ],
   "source": [
    "from dis import dis\n",
    "b = 6\n",
    "def f2(a):\n",
    "    print(a)\n",
    "    print(b)\n",
    "    b = 9\n",
    "\n",
    "dis(f2)"
   ]
  },
  {
   "cell_type": "code",
   "execution_count": null,
   "metadata": {},
   "outputs": [],
   "source": [
    "def make_averager():\n",
    "    series = []\n",
    "    def averager(new_value):\n",
    "        series.append(new_value)\n",
    "        total = sum(series)\n",
    "        return total/len(series)\n",
    "    return averager\n",
    "\n",
    "avg = make_averager()\n",
    "avg(10)"
   ]
  },
  {
   "cell_type": "code",
   "execution_count": 12,
   "metadata": {},
   "outputs": [
    {
     "name": "stdout",
     "output_type": "stream",
     "text": [
      "[0.12835073s] snooze(0.123) -> None \n",
      "[0.00000000s] factorial(1) -> 1 \n",
      "[0.00000000s] factorial(2) -> 2 \n",
      "[0.00000000s] factorial(3) -> 6 \n",
      "[0.00000000s] factorial(4) -> 24 \n",
      "[0.00000000s] factorial(5) -> 120 \n",
      "[0.00000000s] factorial(6) -> 720 \n"
     ]
    },
    {
     "data": {
      "text/plain": [
       "720"
      ]
     },
     "execution_count": 12,
     "metadata": {},
     "output_type": "execute_result"
    }
   ],
   "source": [
    "import time\n",
    "import functools\n",
    "\n",
    "# def clock(func):\n",
    "#     def clocked(*args): # ➊定义内部函数 clocked， 它接受任意个位置参数\n",
    "#         t0 = time.perf_counter()\n",
    "#         result = func(*args) # ➋ 这行代码可用， 是因为 clocked 的闭包中包含自由变量 func。\n",
    "#         elapsed = time.perf_counter() - t0\n",
    "#         name = func.__name__\n",
    "#         arg_str = ', '.join(repr(arg) for arg in args)\n",
    "#         print('[%0.8fs] %s(%s) -> %r' % (elapsed, name, arg_str, result))\n",
    "#         return result\n",
    "#     return clocked # ➌返回内部函数， 取代被装饰的函数\n",
    "\n",
    "\n",
    "def clock(func):\n",
    "    @functools.wraps(func)\n",
    "    def clocked(*args, **kwargs):\n",
    "        t0 = time.time()\n",
    "        result = func(*args, **kwargs)\n",
    "        elapsed = time.time() - t0\n",
    "        name = func.__name__\n",
    "        arg_lst = []\n",
    "        if args:\n",
    "            arg_lst.append(', '.join(repr(arg) for arg in args))\n",
    "        if kwargs:\n",
    "            pairs = ['%s=%r' % (k, w) for k, w in sorted(kwargs.items())] \n",
    "            arg_lst.append(', '.join(pairs))\n",
    "        arg_str = ', '.join(arg_lst)\n",
    "        print('[%0.8fs] %s(%s) -> %r ' % (elapsed, name, arg_str, result))\n",
    "        return result\n",
    "    return clocked\n",
    "\n",
    "\n",
    "\n",
    "@clock\n",
    "def snooze(seconds):\n",
    "    time.sleep(seconds)\n",
    "    \n",
    "@clock\n",
    "def factorial(n):\n",
    "    return 1 if n < 2 else n*factorial(n-1)\n",
    "\n",
    "\n",
    "snooze(.123)\n",
    "factorial(6)\n",
    "# print('6! =', factorial(6))\n"
   ]
  },
  {
   "cell_type": "code",
   "execution_count": 19,
   "metadata": {},
   "outputs": [
    {
     "name": "stdout",
     "output_type": "stream",
     "text": [
      "Gizmo id: 3206713267104\n"
     ]
    }
   ],
   "source": [
    "class Gizmo:\n",
    "    def __init__(self):\n",
    "        print('Gizmo id: %d' % id(self))\n",
    "\n",
    "x = Gizmo()\n",
    "\n",
    "# y = Gizmo() * 10\n",
    "\n",
    "# dir()"
   ]
  },
  {
   "cell_type": "code",
   "execution_count": 29,
   "metadata": {},
   "outputs": [
    {
     "name": "stdout",
     "output_type": "stream",
     "text": [
      "True\n",
      "True\n",
      "3206724090048 3206724090048\n",
      "----------------------------------------\n",
      "True\n",
      "False\n",
      "3206724090048 3206721915904\n"
     ]
    }
   ],
   "source": [
    "charles = {'name': 'Charles L. Dodgson', 'born': 1832, 'balance': 950}\n",
    "\n",
    "lewis = charles\n",
    "print(lewis == charles)\n",
    "print(lewis is charles)\n",
    "\n",
    "print(id(charles), id(lewis))\n",
    "print(\"-\"*40)\n",
    "alex = {'name': 'Charles L. Dodgson', 'born': 1832, 'balance': 950} \n",
    "\n",
    "print(alex == charles) # 比较的是值\n",
    "print(alex is charles) # 比较的是内存地址\n",
    "print(id(charles), id(alex)) # id() 获取内存地址,在对象的生命周期中绝不会变\n",
    "\n"
   ]
  },
  {
   "cell_type": "code",
   "execution_count": 39,
   "metadata": {},
   "outputs": [
    {
     "name": "stdout",
     "output_type": "stream",
     "text": [
      "True\n",
      "3206723856512 3206723996480\n",
      "3206723732736\n",
      "after add element to list\n",
      "(1, 2, [30, 40, 99])\n",
      "3206723732736\n",
      "False\n",
      "3206723856512 3206723996480\n"
     ]
    }
   ],
   "source": [
    "# 元组的相对不可变性\n",
    "\n",
    "t1 = (1, 2, [30, 40])\n",
    "t2 = (1, 2, [30, 40])\n",
    "print(t1 == t2)\n",
    "print(id(t1), id(t2))\n",
    "print(id(t1[-1]))\n",
    "print(\"after add element to list\")\n",
    "t1[-1].append(99)\n",
    "print(t1)\n",
    "print(id(t1[-1]) )\n",
    "print(t1 == t2)\n",
    "print(id(t1), id(t2))"
   ]
  },
  {
   "cell_type": "code",
   "execution_count": 41,
   "metadata": {},
   "outputs": [
    {
     "name": "stdout",
     "output_type": "stream",
     "text": [
      "True\n",
      "False\n"
     ]
    }
   ],
   "source": [
    "# 默认做浅复制\n",
    "\n",
    "l1 = [3, [55, 44], (7, 8, 9)]\n",
    "l2 = list(l1)\n",
    "\n",
    "print(l2 == l1 )\n",
    "print(l2 is l1)\n",
    "\n"
   ]
  },
  {
   "cell_type": "code",
   "execution_count": 44,
   "metadata": {},
   "outputs": [
    {
     "name": "stdout",
     "output_type": "stream",
     "text": [
      "3206711187200 3206713432240 3206711435072\n",
      "['Alice', 'Claire', 'David']\n",
      "3206723695488 3206723695488 3206724163840\n",
      "['Alice', 'Bill', 'Claire', 'David']\n"
     ]
    }
   ],
   "source": [
    "# 为任意对象做深复制和浅复制\n",
    "import copy\n",
    "class Bus:\n",
    "    def __init__(self, passengers=None):\n",
    "        if passengers is None:\n",
    "            self.passengers = []\n",
    "        else:\n",
    "            self.passengers = list(passengers)\n",
    "            \n",
    "    def pick(self, name):\n",
    "        self.passengers.append(name)\n",
    "        \n",
    "    def drop(self, name):\n",
    "        self.passengers.remove(name)\n",
    "\n",
    "\n",
    "bus1 = Bus(['Alice', 'Bill', 'Claire', 'David'])\n",
    "bus2 = copy.copy(bus1) # 浅拷贝\n",
    "bus3 = copy.deepcopy(bus1) # 深拷贝\n",
    "print( id(bus1), id(bus2), id(bus3)) # 3206711452624 3206711452336 3206711451904 ID不同\n",
    "bus1.drop('Bill')\n",
    "print(bus2.passengers)\n",
    "print(id(bus1.passengers), id(bus2.passengers), id(bus3.passengers)) #3206723723072 3206723723072 3206723700672 前两个ID相同\n",
    "\n",
    "print(bus3.passengers)"
   ]
  },
  {
   "cell_type": "code",
   "execution_count": 46,
   "metadata": {},
   "outputs": [
    {
     "name": "stdout",
     "output_type": "stream",
     "text": [
      "[10, 20, [[...], 30]]\n",
      "[10, 20, [[...], 30]]\n"
     ]
    }
   ],
   "source": [
    "from copy import deepcopy\n",
    "a = [10, 20]\n",
    "b = [a, 30]\n",
    "a.append(b)\n",
    "print(a)\n",
    "c = deepcopy(a)\n",
    "print(c)\n"
   ]
  },
  {
   "cell_type": "code",
   "execution_count": 52,
   "metadata": {},
   "outputs": [
    {
     "name": "stdout",
     "output_type": "stream",
     "text": [
      "id of basketball_team: 3206723653696\n",
      "id of passengers: 3206723653696\n",
      "['Sue', 'Maya', 'Diana']\n"
     ]
    }
   ],
   "source": [
    "class TwilightBus:\n",
    "    \"\"\"让乘客销声匿迹的校车\"\"\"\n",
    "    def __init__(self, passengers=None):\n",
    "        if passengers is None:\n",
    "            self.passengers = [] #当 passengers 为 None 时， 创建一个新的空列表\n",
    "        else:\n",
    "            self.passengers = passengers # self.passengers 变成 passengers 的别名， 而后者是传给 __init__ 方法的实参\n",
    "        print('id of passengers:',id(passengers))\n",
    "    def pick(self, name):\n",
    "        self.passengers.append(name)\n",
    "    def drop(self, name):\n",
    "        self.passengers.remove(name) #在 self.passengers 上调用 .remove() 和 .append() 方法其实会修改传给构造方法的那个列表\n",
    "\n",
    "basketball_team = ['Sue', 'Tina', 'Maya', 'Diana', 'Pat']\n",
    "print('id of basketball_team:',id(basketball_team))\n",
    "bus = TwilightBus(basketball_team)\n",
    "bus.drop('Tina')\n",
    "bus.drop('Pat')\n",
    "print(basketball_team) #下车的学生从篮球队中消失了！\n",
    "\n",
    "\n",
    "\n"
   ]
  },
  {
   "cell_type": "code",
   "execution_count": 53,
   "metadata": {},
   "outputs": [
    {
     "name": "stdout",
     "output_type": "stream",
     "text": [
      "id of basketball_team: 3206723683072\n",
      "id of passengers: 3206723683072\n",
      "id of self.passengers: 3206710459456\n",
      "['Sue', 'Tina', 'Maya', 'Diana', 'Pat']\n"
     ]
    }
   ],
   "source": [
    "# 上面的问题是， 校车为传给构造方法的列表创建了别名。 正确的做法是， 校车自己维护乘客列表。 修正的方法很简单： 在 __init__ 中， 传\n",
    "# 入 passengers 参数时， 应该把参数值的副本赋值给self.passengers，\n",
    "\n",
    "\"\"\"\n",
    "在内部像这样处理乘客列表， 就不会影响初始化校车时传入的参数了。\n",
    "此外， 这种处理方式还更灵活： 现在， 传给 passengers 参数的值可以\n",
    "是元组或任何其他可迭代对象\n",
    "\"\"\"\n",
    "class TwilightBus:\n",
    "    \"\"\"让乘客销声匿迹的校车\"\"\"\n",
    "    def __init__(self, passengers=None):\n",
    "        if passengers is None:\n",
    "            self.passengers = [] #当 passengers 为 None 时， 创建一个新的空列表\n",
    "        else:\n",
    "            # self.passengers = passengers\n",
    "            self.passengers = list(passengers)  #创建 passengers 列表的副本； 如果不是列表， 就把它转换成列表\n",
    "        print('id of passengers:',id(passengers))\n",
    "        print('id of self.passengers:',id(self.passengers))\n",
    "    def pick(self, name):\n",
    "        self.passengers.append(name)\n",
    "    def drop(self, name):\n",
    "        self.passengers.remove(name)\n",
    "\n",
    "basketball_team = ['Sue', 'Tina', 'Maya', 'Diana', 'Pat']\n",
    "print('id of basketball_team:',id(basketball_team))\n",
    "bus = TwilightBus(basketball_team)\n",
    "bus.drop('Tina')\n",
    "bus.drop('Pat')\n",
    "print(basketball_team) #下车的学生没有从篮球队中消失"
   ]
  },
  {
   "cell_type": "code",
   "execution_count": 64,
   "metadata": {},
   "outputs": [
    {
     "name": "stdout",
     "output_type": "stream",
     "text": [
      "id of a_set 0X2EA9FA01580\n",
      "<weakref at 0x000002EA9ED6A680; to 'set' at 0x000002EA9FA01580>\n",
      "{0, 1}\n",
      "<weakref at 0x000002EA9ED6A680; dead>\n"
     ]
    },
    {
     "data": {
      "text/plain": [
       "True"
      ]
     },
     "execution_count": 64,
     "metadata": {},
     "output_type": "execute_result"
    }
   ],
   "source": [
    "# 正是因为有引用， 对象才会在内存中存在。 当对象的引用数量归零后，\n",
    "# 垃圾回收程序会把对象销毁。 但是， 有时需要引用对象， 而不让对象存\n",
    "# 在的时间超过所需时间。 这经常用在缓存中。\n",
    "\n",
    "\"\"\"弱引用不会增加对象的引用数量。 引用的目标对象称为所指对象\n",
    "（referent） 。 因此我们说， 弱引用不会妨碍所指对象被当作垃圾回收。\"\"\"\n",
    "\n",
    "import weakref\n",
    "a_set = {0, 1}\n",
    "print('id of a_set',hex(id(a_set)).upper())\n",
    "wref = weakref.ref(a_set)  #创建弱引用对象 wref\n",
    "\n",
    "print(wref)\n",
    "print(wref())\n",
    "a_set = {2, 3, 4} # a_set 不再指代 {0, 1} 集合， 因此集合的引用数量减少了。 但是 变量仍然指代它。\n",
    "print(wref)\n",
    "wref() is None\n"
   ]
  },
  {
   "cell_type": "code",
   "execution_count": 82,
   "metadata": {},
   "outputs": [
    {
     "name": "stdout",
     "output_type": "stream",
     "text": [
      "(3.0, 4.0)\n",
      "1. 3.0 4.0\n",
      "2. 3.0 4.0\n",
      "3. Vector2d(3.0, 4.0)\n",
      "(3.0, 4.0)\n",
      "4. True\n",
      "5. (3.0, 4.0)\n",
      "6. b'd\\x00\\x00\\x00\\x00\\x00\\x00\\x08@\\x00\\x00\\x00\\x00\\x00\\x00\\x10@'\n",
      "7. 5.0\n",
      "(0.0, 0.0)\n",
      "8. True False\n"
     ]
    }
   ],
   "source": [
    "from array import array\n",
    "import math\n",
    "class Vector2d:\n",
    "    typecode = 'd'  #typecode 是类属性， 在 Vector2d 实例和字节序列之间转换时使用。\n",
    "    def __init__(self, x, y): # x,y 实例属性\n",
    "        self.x = float(x) #在 __init__ 方法中把 x 和 y 转换成浮点数， 尽早捕获错误， 以防调用 Vector2d 函数时传入不当参数\n",
    "        self.y = float(y)\n",
    "        print(self)\n",
    "        \n",
    "    def __iter__(self):\n",
    "        \"\"\"定义 __iter__ 方法， 把 Vector2d 实例变成可迭代的对象， 这样才\n",
    "            能拆包(例如， x, y = my_vector) 。 这个方法的实现方式很简单，\n",
    "            直接调用生成器表达式一个接一个产出分量。\"\"\"\n",
    "        return (i for i in (self.x, self.y)) \n",
    "    \n",
    "    def __repr__(self):\n",
    "        \"\"\"__repr__ 方法使用 {!r} 获取各个分量的表示形式， 然后插值， 构\n",
    "        成一个字符串； 因为 Vector2d 实例是可迭代的对象， 所以 *self 会把\n",
    "        x 和 y 分量提供给 format 函数。\"\"\"\n",
    "        class_name = type(self).__name__\n",
    "        return '{}({!r}, {!r})'.format(class_name, *self) \n",
    "    \n",
    "    def __str__(self):\n",
    "        return str(tuple(self)) #从可迭代的 Vector2d 实例中可以轻松地得到一个元组， 显示为一个有序对\n",
    "    \n",
    "    def __bytes__(self):\n",
    "        \"\"\"ord() 函数是以一个字符(长度为1的字符串)作为参数,返回对应的 ASCII 数值，或者 Unicode 数值，如果所给的 Unicode 字符超出了你的 Python 定义范围，则会引发一个 TypeError 的异常。\"\"\"\n",
    "        return (bytes([ord(self.typecode)]) + bytes(array(self.typecode, self))) \n",
    "    \n",
    "    def __eq__(self, other):\n",
    "        return tuple(self) == tuple(other) \n",
    "    \n",
    "    def __abs__(self):\n",
    "        return math.hypot(self.x, self.y) \n",
    "    \n",
    "    def __bool__(self):\n",
    "        return bool(abs(self))\n",
    "    \n",
    "    def __format__(self, fmt_spec=''):\n",
    "        if fmt_spec.endswith('p'): \n",
    "            fmt_spec = fmt_spec[:-1] \n",
    "            coords = (abs(self), self.angle()) \n",
    "            outer_fmt = '<{}, {}>' \n",
    "        else:\n",
    "            coords = self \n",
    "            outer_fmt = '({}, {})' \n",
    "        components = (format(c, fmt_spec) for c in coords) \n",
    "        return outer_fmt.format(*components)\n",
    "    \n",
    "    @classmethod  #类方法使用 classmethod 装饰器修饰。\n",
    "    def frombytes(cls, octets): #不用传入 self 参数； 相反， 要通过 cls 传入类本身。\n",
    "        typecode = chr(octets[0]) #从第一个字节中读取 typecode。\n",
    "        memv = memoryview(octets[1:]).cast(typecode) #使用传入的 octets 字节序列创建一个 memoryview， 然后使用typecode 转换\n",
    "        return cls(*memv) #拆包转换后的 memoryview， 得到构造方法所需的一对参数\n",
    "\n",
    "v1 = Vector2d(3, 4)\n",
    "print(\"1.\",v1.x, v1.y)\n",
    "x, y = v1     #Vector2d 实例可以拆包成变量元组。\n",
    "print(\"2.\",x, y)\n",
    "\n",
    "# v1\n",
    "print(\"3.\",repr(v1))\n",
    "v1_clone = eval(repr(v1))  # 等价于 v1_clone = Vector2d(3.0, 4.0)\n",
    "print(\"4.\",v1 == v1_clone)\n",
    "print(\"5.\",v1) #print 函数会调用 str 函数,对 Vector2d 来说， 输出的是一个有序对。\n",
    "octets = bytes(v1) #bytes 函数会调用 __bytes__ 方法， 生成实例的二进制表示形式。 b'd\\x00\\x00\\x00\\x00\\x00\\x00\\x08@\\x00\\x00\\x00\\x00\\x00\\x00\\x10@'\n",
    "\n",
    "print(\"6.\",octets)\n",
    "print(\"7.\",abs(v1)) #abs 函数会调用 __abs__ 方法， 返回 Vector2d 实例的模。\n",
    "print(\"8.\",bool(v1), bool(Vector2d(0, 0)) ) #bool 函数会调用 __bool__ 方法， 如果 Vector2d 实例的模为零，返回 False， 否则返回 True。\n",
    "\n",
    "\n",
    "\n"
   ]
  },
  {
   "cell_type": "code",
   "execution_count": 5,
   "metadata": {},
   "outputs": [
    {
     "data": {
      "text/plain": [
       "'d'"
      ]
     },
     "execution_count": 5,
     "metadata": {},
     "output_type": "execute_result"
    }
   ],
   "source": [
    "dic = {'a': 2, 'b': 8, 'c': 5, 'd': 9}\n",
    "ans = max(dic, key=dic.get) # get() 函数返回指定键的值。\n",
    "ans\n"
   ]
  },
  {
   "cell_type": "code",
   "execution_count": 5,
   "metadata": {},
   "outputs": [
    {
     "name": "stdout",
     "output_type": "stream",
     "text": [
      "The key with the maximum value is: d\n"
     ]
    }
   ],
   "source": [
    "# 创建一个字典\n",
    "my_dict = {'a': 1, 'c': 3, 'b': 2, 'd': 4}\n",
    "\n",
    "# 使用max()函数获取字典中最大值对应的键\n",
    "max_key = max(my_dict, key=lambda item: my_dict[item])\n",
    "\n",
    "# 输出结果\n",
    "print(\"The key with the maximum value is:\", max_key)\n"
   ]
  },
  {
   "cell_type": "code",
   "execution_count": 3,
   "metadata": {},
   "outputs": [
    {
     "name": "stdout",
     "output_type": "stream",
     "text": [
      "1 1 2 3 5 8 13 21 34 55 89 144 "
     ]
    }
   ],
   "source": [
    "class Fibs:\n",
    "    def __init__(self):\n",
    "        self.a = 0\n",
    "        self.b = 1\n",
    "    def __next__(self):\n",
    "        self.a, self.b = self.b, self.a + self.b\n",
    "        return self.a\n",
    "    def __iter__(self):\n",
    "        return self\n",
    "\n",
    "fibs = Fibs()\n",
    "for i in fibs:\n",
    "    print(i,end=' ')\n",
    "    if i >100:\n",
    "        break"
   ]
  },
  {
   "cell_type": "code",
   "execution_count": 7,
   "metadata": {},
   "outputs": [
    {
     "name": "stdout",
     "output_type": "stream",
     "text": [
      "1\n",
      "2\n",
      "3\n",
      "4\n",
      "5\n"
     ]
    },
    {
     "data": {
      "text/plain": [
       "[1, 2, 3, 4, 5]"
      ]
     },
     "execution_count": 7,
     "metadata": {},
     "output_type": "execute_result"
    }
   ],
   "source": [
    "nested = [[1, 2], [3, 4], [5]]\n",
    "\n",
    "def flatten(nested):\n",
    "    for sublist in nested:\n",
    "        for element in sublist:\n",
    "            yield element\n",
    "\n",
    "for i in flatten(nested):\n",
    "    print(i)\n",
    "list(flatten(nested))"
   ]
  },
  {
   "cell_type": "code",
   "execution_count": 10,
   "metadata": {},
   "outputs": [
    {
     "name": "stdout",
     "output_type": "stream",
     "text": [
      "out 10 20 2613152148048 2613152148368\n",
      "in  10 20 2613152148048 2613152148368\n",
      "in  10 2613152148048\n",
      "in  20 10 2613152148368 2613152148048\n",
      "out 10 20 2613152148048 2613152148368\n"
     ]
    }
   ],
   "source": [
    "def swap(m,n):\n",
    "    print(\"in \",m,n,id(m),id(n))\n",
    "    tmp = m\n",
    "    m = n\n",
    "    n = tmp\n",
    "    print(\"in \",tmp,id(tmp))\n",
    "    print(\"in \",m,n,id(m),id(n))\n",
    "\n",
    "a = 10\n",
    "b = 20\n",
    "print(\"out\",a,b,id(a),id(b))\n",
    "swap(a,b)\n",
    "print(\"out\",a,b,id(a),id(b))"
   ]
  },
  {
   "cell_type": "code",
   "execution_count": 3,
   "metadata": {},
   "outputs": [],
   "source": [
    "from pyecharts import options as opts\n",
    "from pyecharts.charts import Bar\n",
    "from pyecharts.faker import Faker\n",
    "# print(Faker.values())\n",
    "\n",
    "c = (\n",
    "    Bar()\n",
    "    .add_xaxis(Faker.choose())\n",
    "    .add_yaxis(\"商家A\", Faker.values())\n",
    "    .add_yaxis(\"商家B\", Faker.values())\n",
    "    .set_global_opts(title_opts=opts.TitleOpts(title=\"Bar-基本示例\", subtitle=\"我是副标题\"))\n",
    "    .render(\"bar_base.html\")\n",
    ")\n"
   ]
  },
  {
   "cell_type": "code",
   "execution_count": null,
   "metadata": {},
   "outputs": [],
   "source": [
    "import  json\n",
    "aa = {'dns': {'servers': [{'tag': 'proxyDns', 'address': 'https://8.8.8.8/dns-query', 'detour': 'proxy'}, {'tag': 'localDns', 'address': 'https://223.5.5.5/dns-query', 'detour': 'direct'}, {'tag': 'block', 'address': 'rcode://success'}], 'rules': [{'domain': ['ghproxy.com', 'cdn.jsdelivr.net', 'testingcf.jsdelivr.net'], 'server': 'localDns'}, {'rule_set': 'geosite-category-ads-all', 'server': 'block'}, {'outbound': 'any', 'server': 'localDns', 'disable_cache': True}, {'rule_set': 'geosite-cn', 'server': 'localDns'}, {'clash_mode': 'direct', 'server': 'localDns'}, {'clash_mode': 'global', 'server': 'proxyDns'}, {'rule_set': 'geosite-geolocation-!cn', 'server': 'proxyDns'}], 'strategy': 'ipv4_only'},}\n",
    "# print(json.dumps(aa, indent=4))\n"
   ]
  },
  {
   "cell_type": "code",
   "execution_count": null,
   "metadata": {},
   "outputs": [],
   "source": []
  },
  {
   "cell_type": "code",
   "execution_count": 2,
   "metadata": {},
   "outputs": [
    {
     "name": "stdout",
     "output_type": "stream",
     "text": [
      "win32\n"
     ]
    }
   ],
   "source": [
    "import os\n",
    "import sys\n",
    "print(sys.platform)"
   ]
  }
 ],
 "metadata": {
  "kernelspec": {
   "display_name": "base",
   "language": "python",
   "name": "python3"
  },
  "language_info": {
   "codemirror_mode": {
    "name": "ipython",
    "version": 3
   },
   "file_extension": ".py",
   "mimetype": "text/x-python",
   "name": "python",
   "nbconvert_exporter": "python",
   "pygments_lexer": "ipython3",
   "version": "3.12.4"
  }
 },
 "nbformat": 4,
 "nbformat_minor": 2
}

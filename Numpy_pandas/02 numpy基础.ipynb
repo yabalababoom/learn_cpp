{
 "cells": [
  {
   "cell_type": "markdown",
   "id": "e0116207",
   "metadata": {},
   "source": [
    "# 一 numpy数组\n",
    "numpy 提供了一种数组类型(高维数组),提供了数据分析的运算基础"
   ]
  },
  {
   "cell_type": "code",
   "execution_count": 1,
   "id": "62ef9f22",
   "metadata": {},
   "outputs": [
    {
     "data": {
      "text/plain": [
       "'1.21.5'"
      ]
     },
     "execution_count": 1,
     "metadata": {},
     "output_type": "execute_result"
    }
   ],
   "source": [
    "import numpy as np\n",
    "np.__version__"
   ]
  },
  {
   "cell_type": "code",
   "execution_count": null,
   "id": "42658a65",
   "metadata": {},
   "outputs": [],
   "source": [
    "# C: 数组的概念, 用于存储一系列相同数据类型,在内存上是连续的一段空间\n",
    "# Python: 列表(list):从C看,是一种指针数组,列表中可以存储不同数据类型的元素"
   ]
  },
  {
   "cell_type": "code",
   "execution_count": null,
   "id": "0cee06a5",
   "metadata": {},
   "outputs": [],
   "source": [
    "# Numpy的数组,同样是一个[有序]的,[相同数据类型]的集合"
   ]
  },
  {
   "cell_type": "code",
   "execution_count": null,
   "id": "ff404035",
   "metadata": {},
   "outputs": [],
   "source": [
    "# numpy设计初衷是用于运算的,所以对数据类型进行统一优化\n",
    "# 注意:\n",
    "#     numpy默认ndarray的所有元素的类型是相同的\n",
    "#     如果传进来的列表中包含不同的类型,则统一为同一类型,优先级:str>float>int"
   ]
  },
  {
   "cell_type": "code",
   "execution_count": 3,
   "id": "9047c27b",
   "metadata": {},
   "outputs": [],
   "source": [
    "arr = np.array([1,1.23,\"hello\"])"
   ]
  },
  {
   "cell_type": "code",
   "execution_count": 4,
   "id": "dff34df3",
   "metadata": {},
   "outputs": [
    {
     "data": {
      "text/plain": [
       "array(['1', '1.23', 'hello'], dtype='<U32')"
      ]
     },
     "execution_count": 4,
     "metadata": {},
     "output_type": "execute_result"
    }
   ],
   "source": [
    "arr"
   ]
  },
  {
   "cell_type": "code",
   "execution_count": 7,
   "id": "fb0f58ed",
   "metadata": {},
   "outputs": [
    {
     "data": {
      "text/plain": [
       "array([1, 2, 3, 4, 5, 6])"
      ]
     },
     "execution_count": 7,
     "metadata": {},
     "output_type": "execute_result"
    }
   ],
   "source": [
    "int_lst = [1,2,3,4,5,6]\n",
    "arr_int = np.array(int_lst)\n",
    "arr_int\n"
   ]
  },
  {
   "cell_type": "code",
   "execution_count": 7,
   "id": "ef313a2e",
   "metadata": {},
   "outputs": [
    {
     "data": {
      "text/plain": [
       "array([1., 2., 3., 4., 5., 6.], dtype=float32)"
      ]
     },
     "execution_count": 7,
     "metadata": {},
     "output_type": "execute_result"
    }
   ],
   "source": [
    "import numpy as np\n",
    "int_lst = [1,2,3,4,5,6]\n",
    "arr_int = np.array(int_lst,dtype=np.float32) # 使用dtype更改或标注数据类型\n",
    "arr_int"
   ]
  },
  {
   "cell_type": "code",
   "execution_count": 10,
   "id": "030bbcb5",
   "metadata": {},
   "outputs": [
    {
     "data": {
      "text/plain": [
       "array([[1., 1.],\n",
       "       [1., 1.],\n",
       "       [1., 1.]])"
      ]
     },
     "execution_count": 10,
     "metadata": {},
     "output_type": "execute_result"
    }
   ],
   "source": [
    "# 创建二维数组,使用shape\n",
    "import numpy as np\n",
    "# 1.np.ones(shape,dtype=None,order='C') 创建shape的单位数组\n",
    "# shape = (m,n) m row,n column 二维数组\n",
    "# shape = (m)   m row          一维数组\n",
    "# shape = (m,)  m row          一维数组\n",
    "# shape = (m,1)  m row  1 column   二维数组\n",
    "# shape = (1,n)  1 row  n column   二维数组\n",
    "arr1 = np.ones((3,2),dtype=None,order='C') #创建3行2列的单位数组\n",
    "arr1"
   ]
  },
  {
   "cell_type": "code",
   "execution_count": 12,
   "id": "1ebfed55",
   "metadata": {},
   "outputs": [
    {
     "data": {
      "text/plain": [
       "array([[[0, 0, 0, 0],\n",
       "        [0, 0, 0, 0],\n",
       "        [0, 0, 0, 0]],\n",
       "\n",
       "       [[0, 0, 0, 0],\n",
       "        [0, 0, 0, 0],\n",
       "        [0, 0, 0, 0]]])"
      ]
     },
     "execution_count": 12,
     "metadata": {},
     "output_type": "execute_result"
    }
   ],
   "source": [
    "# 2.np.zeros(shape,dtype=None,order='C') 创建shape的0数组\n",
    "arr2 = np.zeros((2,3,4),dtype=int,order='C') # 2个3行4列的3维数组\n",
    "arr2"
   ]
  },
  {
   "cell_type": "code",
   "execution_count": 13,
   "id": "8e73b143",
   "metadata": {},
   "outputs": [
    {
     "data": {
      "text/plain": [
       "array([[5, 5, 5, 5, 5],\n",
       "       [5, 5, 5, 5, 5],\n",
       "       [5, 5, 5, 5, 5],\n",
       "       [5, 5, 5, 5, 5]])"
      ]
     },
     "execution_count": 13,
     "metadata": {},
     "output_type": "execute_result"
    }
   ],
   "source": [
    "# 3. np.full(shape,fill_value,dtype=None,order='C') 创建shape的指定value的数组\n",
    "arr3 = np.full((4,5),5,dtype=None,order='C')\n",
    "arr3"
   ]
  },
  {
   "cell_type": "code",
   "execution_count": 16,
   "id": "bd1ff660",
   "metadata": {},
   "outputs": [
    {
     "data": {
      "text/plain": [
       "array([[0., 1., 0.],\n",
       "       [0., 0., 1.],\n",
       "       [0., 0., 0.]])"
      ]
     },
     "execution_count": 16,
     "metadata": {},
     "output_type": "execute_result"
    }
   ],
   "source": [
    "# 4. np.eye(N,M=None,k=0,dtype=None) N阶单位矩阵;M控制列数,一般不用;k移动对角线位置;\n",
    "arr4 = np.eye(3,M=None,k=1,dtype=None)\n",
    "arr4"
   ]
  },
  {
   "cell_type": "code",
   "execution_count": 20,
   "id": "43ada03f",
   "metadata": {},
   "outputs": [
    {
     "data": {
      "text/plain": [
       "array([ 1.,  2.,  3.,  4.,  5.,  6.,  7.,  8.,  9., 10.])"
      ]
     },
     "execution_count": 20,
     "metadata": {},
     "output_type": "execute_result"
    }
   ],
   "source": [
    "# 5.np.linspace(start,end,num=50,endpoint=True,restep=False,dtype=None) 创建等差数列\n",
    "# num 数列的个数; endpoint 包含Endpoint否\n",
    "arr5 = np.linspace(1,10,num=10,dtype=None)\n",
    "arr5"
   ]
  },
  {
   "cell_type": "code",
   "execution_count": 21,
   "id": "8c3d53c2",
   "metadata": {},
   "outputs": [
    {
     "data": {
      "text/plain": [
       "array([0, 1, 2, 3, 4, 5, 6, 7, 8, 9])"
      ]
     },
     "execution_count": 21,
     "metadata": {},
     "output_type": "execute_result"
    }
   ],
   "source": [
    "# 6.np.arange([start, ]stop, step, dtype) 创建等差数列, 关注步长\n",
    "np.arange(0,10,1)"
   ]
  },
  {
   "cell_type": "code",
   "execution_count": 22,
   "id": "515b2061",
   "metadata": {},
   "outputs": [
    {
     "data": {
      "text/plain": [
       "array([[22, 66, 39,  5, 87],\n",
       "       [ 2, 51, 43, 43, 24],\n",
       "       [94, 11, 65,  1, 27],\n",
       "       [94, 99, 48, 69, 97],\n",
       "       [ 7, 92, 53, 29, 93]])"
      ]
     },
     "execution_count": 22,
     "metadata": {},
     "output_type": "execute_result"
    }
   ],
   "source": [
    "# 7.np.random.randint(low,high=None,size=None,dtype='l') 随机整数 ,size同shape\n",
    "np.random.randint(0,100,size=(5,5))"
   ]
  },
  {
   "cell_type": "code",
   "execution_count": 30,
   "id": "8fecff82",
   "metadata": {},
   "outputs": [
    {
     "data": {
      "text/plain": [
       "array([[171.43689203, 169.58109492, 169.04676603, 175.57263296,\n",
       "        163.8422358 ],\n",
       "       [171.64076829, 165.92532783, 177.64639919, 166.95739195,\n",
       "        179.1088858 ],\n",
       "       [170.10295944, 178.51206664, 173.70429346, 172.65498474,\n",
       "        168.89062323],\n",
       "       [159.27495728, 170.95005576, 171.65372176, 165.57904169,\n",
       "        166.68001965],\n",
       "       [164.82764667, 164.86544172, 163.08402819, 168.53391498,\n",
       "        159.51665307]])"
      ]
     },
     "execution_count": 30,
     "metadata": {},
     "output_type": "execute_result"
    }
   ],
   "source": [
    "# 8.正态分布函数\n",
    "# np.random.randn(d0,d1,,,,dn)#标准正态分布\n",
    "# np.random.randn(3,5) \n",
    "# np.random.normal(d0,d1,,,,dn) # 普通正态分布.\n",
    "np.random.normal(loc=170,scale=5,size=(5,5)) #"
   ]
  },
  {
   "cell_type": "code",
   "execution_count": 33,
   "id": "a9db5bc9",
   "metadata": {
    "scrolled": false
   },
   "outputs": [
    {
     "data": {
      "text/plain": [
       "array([[0.85047301, 0.63107922, 0.53818214, 0.26605571, 0.84663913],\n",
       "       [0.4935123 , 0.67791257, 0.48427225, 0.38593424, 0.26849556],\n",
       "       [0.44233906, 0.29818756, 0.28542177, 0.51115514, 0.41339527],\n",
       "       [0.72715667, 0.60620312, 0.31139643, 0.1252117 , 0.68694081],\n",
       "       [0.42218121, 0.5141423 , 0.78371882, 0.43929419, 0.8209172 ]])"
      ]
     },
     "execution_count": 33,
     "metadata": {},
     "output_type": "execute_result"
    }
   ],
   "source": [
    "# 9.  0~1的随机数\n",
    "np.random.random(100)\n",
    "np.random.random(size=(5,5))"
   ]
  },
  {
   "cell_type": "code",
   "execution_count": 34,
   "id": "df88665c",
   "metadata": {
    "scrolled": true
   },
   "outputs": [
    {
     "data": {
      "text/plain": [
       "array([7, 9, 8, 2, 1, 3, 4, 0, 6, 5])"
      ]
     },
     "execution_count": 34,
     "metadata": {},
     "output_type": "execute_result"
    }
   ],
   "source": [
    "np.random.permutation(10) # 0~10的随机索引"
   ]
  },
  {
   "cell_type": "markdown",
   "id": "b4e582c9",
   "metadata": {},
   "source": [
    "# 二、ndarray的属性\n",
    "4个必记参数:\n",
    "    ·ndim:维度\n",
    "    ·shape:形状(各维度的长度)\n",
    "    ·size:总长度\n",
    "    ·dtype:元素类型\n",
    "    \n",
    "arr.ndim\n",
    "arr.shape\n",
    "arr.size\n",
    "arr.dtype"
   ]
  },
  {
   "cell_type": "markdown",
   "id": "3a9d1ec1",
   "metadata": {},
   "source": [
    "# 三、ndarray的基本操作"
   ]
  },
  {
   "cell_type": "code",
   "execution_count": null,
   "id": "e85eb331",
   "metadata": {},
   "outputs": [],
   "source": [
    "#1. 索引\n",
    "一维数组与列表完全一致, 多维同理"
   ]
  },
  {
   "cell_type": "code",
   "execution_count": 35,
   "id": "cb3e6d68",
   "metadata": {},
   "outputs": [
    {
     "data": {
      "text/plain": [
       "6"
      ]
     },
     "execution_count": 35,
     "metadata": {},
     "output_type": "execute_result"
    }
   ],
   "source": [
    "arr = np.array([1,2,3,4,5,6,7,8,9])\n",
    "arr[5]"
   ]
  },
  {
   "cell_type": "code",
   "execution_count": 40,
   "id": "54bd47b9",
   "metadata": {},
   "outputs": [
    {
     "data": {
      "text/plain": [
       "1"
      ]
     },
     "execution_count": 40,
     "metadata": {},
     "output_type": "execute_result"
    }
   ],
   "source": [
    "arr = np.array([[0,1,2,3,4,],\n",
    "               [5,6,7,8,9]])\n",
    "arr[0][1]# 第0行第1列"
   ]
  },
  {
   "cell_type": "code",
   "execution_count": 41,
   "id": "d494c1b8",
   "metadata": {},
   "outputs": [
    {
     "data": {
      "text/plain": [
       "1"
      ]
     },
     "execution_count": 41,
     "metadata": {},
     "output_type": "execute_result"
    }
   ],
   "source": [
    "arr = np.array([[0,1,2,3,4,],\n",
    "               [5,6,7,8,9]])\n",
    "arr[0,1]# 第0行第1列"
   ]
  }
 ],
 "metadata": {
  "kernelspec": {
   "display_name": "Python 3 (ipykernel)",
   "language": "python",
   "name": "python3"
  },
  "language_info": {
   "codemirror_mode": {
    "name": "ipython",
    "version": 3
   },
   "file_extension": ".py",
   "mimetype": "text/x-python",
   "name": "python",
   "nbconvert_exporter": "python",
   "pygments_lexer": "ipython3",
   "version": "3.9.12"
  }
 },
 "nbformat": 4,
 "nbformat_minor": 5
}

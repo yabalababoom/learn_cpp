{
 "cells": [
  {
   "cell_type": "markdown",
   "metadata": {},
   "source": [
    "# 4 Pandas"
   ]
  },
  {
   "cell_type": "markdown",
   "metadata": {},
   "source": [
    "## 4.1 介绍"
   ]
  },
  {
   "cell_type": "markdown",
   "metadata": {},
   "source": [
    "pandas = panel + data + analysis\n"
   ]
  },
  {
   "cell_type": "markdown",
   "metadata": {},
   "source": [
    "### 4.1.1 为什么使用Pandas\n",
    "1. 便捷的数据处理能力\n",
    "2. 读取文件方便\n",
    "3. 封装了matplotlib,numpy的画图与计算\n",
    "\n",
    "\n",
    "### 4.1.2 DataFrame\n",
    "  1. 结构: 既有行索引,也有列索引的二维数组  \n",
    "  2. 属性: shape          index          columns          values          T  \n",
    "  3. 方法: head(), tail()  \n",
    "  4. 索引的设置  \n",
    "      4.1 修改行列索引的值  \n",
    "      4.2 重设索引  \n",
    "      4.3 设置新索引  \n"
   ]
  },
  {
   "cell_type": "code",
   "execution_count": 1,
   "metadata": {},
   "outputs": [
    {
     "data": {
      "text/plain": [
       "array([[ 1.02167505,  2.72608272,  0.90274974,  1.15893729,  1.21278641],\n",
       "       [-1.75636629, -1.65175647, -1.13136059,  0.47635033, -1.2054201 ],\n",
       "       [-0.4976545 ,  0.78234542, -1.15826083, -1.06183147, -1.25295089],\n",
       "       [ 0.20057076, -0.05305768, -1.22866922, -1.2377074 ,  1.50972497],\n",
       "       [ 0.12388692, -1.54353717,  1.01887692, -1.82784302, -0.14810419],\n",
       "       [ 1.30380296, -0.0458388 , -0.83008252, -0.08078966,  0.62076211],\n",
       "       [-0.77735786, -1.43261913,  0.79211327,  0.00364723,  1.43698149],\n",
       "       [-0.13059062, -0.47076236,  1.00866195, -0.02841271, -1.1771119 ],\n",
       "       [-0.58959685,  0.34550373, -0.26728295,  0.34478202, -0.56077798],\n",
       "       [ 0.69175521, -0.1539802 ,  0.02051458, -0.1962341 ,  0.34747971]])"
      ]
     },
     "execution_count": 1,
     "metadata": {},
     "output_type": "execute_result"
    }
   ],
   "source": [
    "import numpy as np \n",
    "#创建一个符合正态分布的10个股票5天的涨跌幅数据\n",
    "stock_change = np.random.normal(0,1,(10,5))\n",
    "stock_change"
   ]
  },
  {
   "cell_type": "code",
   "execution_count": 2,
   "metadata": {},
   "outputs": [
    {
     "data": {
      "text/html": [
       "<div>\n",
       "<style scoped>\n",
       "    .dataframe tbody tr th:only-of-type {\n",
       "        vertical-align: middle;\n",
       "    }\n",
       "\n",
       "    .dataframe tbody tr th {\n",
       "        vertical-align: top;\n",
       "    }\n",
       "\n",
       "    .dataframe thead th {\n",
       "        text-align: right;\n",
       "    }\n",
       "</style>\n",
       "<table border=\"1\" class=\"dataframe\">\n",
       "  <thead>\n",
       "    <tr style=\"text-align: right;\">\n",
       "      <th></th>\n",
       "      <th>0</th>\n",
       "      <th>1</th>\n",
       "      <th>2</th>\n",
       "      <th>3</th>\n",
       "      <th>4</th>\n",
       "    </tr>\n",
       "  </thead>\n",
       "  <tbody>\n",
       "    <tr>\n",
       "      <th>0</th>\n",
       "      <td>1.021675</td>\n",
       "      <td>2.726083</td>\n",
       "      <td>0.902750</td>\n",
       "      <td>1.158937</td>\n",
       "      <td>1.212786</td>\n",
       "    </tr>\n",
       "    <tr>\n",
       "      <th>1</th>\n",
       "      <td>-1.756366</td>\n",
       "      <td>-1.651756</td>\n",
       "      <td>-1.131361</td>\n",
       "      <td>0.476350</td>\n",
       "      <td>-1.205420</td>\n",
       "    </tr>\n",
       "    <tr>\n",
       "      <th>2</th>\n",
       "      <td>-0.497655</td>\n",
       "      <td>0.782345</td>\n",
       "      <td>-1.158261</td>\n",
       "      <td>-1.061831</td>\n",
       "      <td>-1.252951</td>\n",
       "    </tr>\n",
       "    <tr>\n",
       "      <th>3</th>\n",
       "      <td>0.200571</td>\n",
       "      <td>-0.053058</td>\n",
       "      <td>-1.228669</td>\n",
       "      <td>-1.237707</td>\n",
       "      <td>1.509725</td>\n",
       "    </tr>\n",
       "    <tr>\n",
       "      <th>4</th>\n",
       "      <td>0.123887</td>\n",
       "      <td>-1.543537</td>\n",
       "      <td>1.018877</td>\n",
       "      <td>-1.827843</td>\n",
       "      <td>-0.148104</td>\n",
       "    </tr>\n",
       "    <tr>\n",
       "      <th>5</th>\n",
       "      <td>1.303803</td>\n",
       "      <td>-0.045839</td>\n",
       "      <td>-0.830083</td>\n",
       "      <td>-0.080790</td>\n",
       "      <td>0.620762</td>\n",
       "    </tr>\n",
       "    <tr>\n",
       "      <th>6</th>\n",
       "      <td>-0.777358</td>\n",
       "      <td>-1.432619</td>\n",
       "      <td>0.792113</td>\n",
       "      <td>0.003647</td>\n",
       "      <td>1.436981</td>\n",
       "    </tr>\n",
       "    <tr>\n",
       "      <th>7</th>\n",
       "      <td>-0.130591</td>\n",
       "      <td>-0.470762</td>\n",
       "      <td>1.008662</td>\n",
       "      <td>-0.028413</td>\n",
       "      <td>-1.177112</td>\n",
       "    </tr>\n",
       "    <tr>\n",
       "      <th>8</th>\n",
       "      <td>-0.589597</td>\n",
       "      <td>0.345504</td>\n",
       "      <td>-0.267283</td>\n",
       "      <td>0.344782</td>\n",
       "      <td>-0.560778</td>\n",
       "    </tr>\n",
       "    <tr>\n",
       "      <th>9</th>\n",
       "      <td>0.691755</td>\n",
       "      <td>-0.153980</td>\n",
       "      <td>0.020515</td>\n",
       "      <td>-0.196234</td>\n",
       "      <td>0.347480</td>\n",
       "    </tr>\n",
       "  </tbody>\n",
       "</table>\n",
       "</div>"
      ],
      "text/plain": [
       "          0         1         2         3         4\n",
       "0  1.021675  2.726083  0.902750  1.158937  1.212786\n",
       "1 -1.756366 -1.651756 -1.131361  0.476350 -1.205420\n",
       "2 -0.497655  0.782345 -1.158261 -1.061831 -1.252951\n",
       "3  0.200571 -0.053058 -1.228669 -1.237707  1.509725\n",
       "4  0.123887 -1.543537  1.018877 -1.827843 -0.148104\n",
       "5  1.303803 -0.045839 -0.830083 -0.080790  0.620762\n",
       "6 -0.777358 -1.432619  0.792113  0.003647  1.436981\n",
       "7 -0.130591 -0.470762  1.008662 -0.028413 -1.177112\n",
       "8 -0.589597  0.345504 -0.267283  0.344782 -0.560778\n",
       "9  0.691755 -0.153980  0.020515 -0.196234  0.347480"
      ]
     },
     "execution_count": 2,
     "metadata": {},
     "output_type": "execute_result"
    }
   ],
   "source": [
    "import pandas as pd \n",
    "pd.DataFrame(stock_change)"
   ]
  },
  {
   "cell_type": "code",
   "execution_count": 3,
   "metadata": {},
   "outputs": [
    {
     "data": {
      "text/plain": [
       "['股票1', '股票2', '股票3', '股票4', '股票5', '股票6', '股票7', '股票8', '股票9', '股票10']"
      ]
     },
     "execution_count": 3,
     "metadata": {},
     "output_type": "execute_result"
    }
   ],
   "source": [
    "# 添加行索引\n",
    "stock = [f\"股票{i+1}\" for i in range(10)]\n",
    "stock\n"
   ]
  },
  {
   "cell_type": "code",
   "execution_count": 4,
   "metadata": {},
   "outputs": [
    {
     "data": {
      "text/plain": [
       "DatetimeIndex(['2018-01-01', '2018-01-02', '2018-01-03', '2018-01-04',\n",
       "               '2018-01-05'],\n",
       "              dtype='datetime64[ns]', freq='B')"
      ]
     },
     "execution_count": 4,
     "metadata": {},
     "output_type": "execute_result"
    }
   ],
   "source": [
    "# 添加列索引\n",
    "date = pd.date_range(start=\"20180101\",periods=5,freq=\"B\")\n",
    "date"
   ]
  },
  {
   "cell_type": "code",
   "execution_count": 5,
   "metadata": {},
   "outputs": [],
   "source": [
    "import pandas as pd \n",
    "data = pd.DataFrame(stock_change,index=stock,columns=date)"
   ]
  },
  {
   "cell_type": "code",
   "execution_count": 6,
   "metadata": {},
   "outputs": [
    {
     "name": "stdout",
     "output_type": "stream",
     "text": [
      "(10, 5)\n",
      "******************************\n",
      "Index(['股票1', '股票2', '股票3', '股票4', '股票5', '股票6', '股票7', '股票8', '股票9', '股票10'], dtype='object')\n",
      "******************************\n",
      "DatetimeIndex(['2018-01-01', '2018-01-02', '2018-01-03', '2018-01-04',\n",
      "               '2018-01-05'],\n",
      "              dtype='datetime64[ns]', freq='B')\n",
      "******************************\n",
      "[[ 1.02167505  2.72608272  0.90274974  1.15893729  1.21278641]\n",
      " [-1.75636629 -1.65175647 -1.13136059  0.47635033 -1.2054201 ]\n",
      " [-0.4976545   0.78234542 -1.15826083 -1.06183147 -1.25295089]\n",
      " [ 0.20057076 -0.05305768 -1.22866922 -1.2377074   1.50972497]\n",
      " [ 0.12388692 -1.54353717  1.01887692 -1.82784302 -0.14810419]\n",
      " [ 1.30380296 -0.0458388  -0.83008252 -0.08078966  0.62076211]\n",
      " [-0.77735786 -1.43261913  0.79211327  0.00364723  1.43698149]\n",
      " [-0.13059062 -0.47076236  1.00866195 -0.02841271 -1.1771119 ]\n",
      " [-0.58959685  0.34550373 -0.26728295  0.34478202 -0.56077798]\n",
      " [ 0.69175521 -0.1539802   0.02051458 -0.1962341   0.34747971]]\n"
     ]
    }
   ],
   "source": [
    "# 2 属性\n",
    "print(data.shape)\n",
    "print(\"*\"*30)\n",
    "print(data.index)\n",
    "print(\"*\"*30)\n",
    "print(data.columns)\n",
    "print(\"*\"*30)\n",
    "print(data.values)\n",
    "# print(data.T)"
   ]
  },
  {
   "cell_type": "code",
   "execution_count": 7,
   "metadata": {},
   "outputs": [
    {
     "name": "stdout",
     "output_type": "stream",
     "text": [
      "     2018-01-01  2018-01-02  2018-01-03  2018-01-04  2018-01-05\n",
      "股票1    1.021675    2.726083    0.902750    1.158937    1.212786\n",
      "股票2   -1.756366   -1.651756   -1.131361    0.476350   -1.205420\n",
      "******************************\n",
      "      2018-01-01  2018-01-02  2018-01-03  2018-01-04  2018-01-05\n",
      "股票8    -0.130591   -0.470762    1.008662   -0.028413   -1.177112\n",
      "股票9    -0.589597    0.345504   -0.267283    0.344782   -0.560778\n",
      "股票10    0.691755   -0.153980    0.020515   -0.196234    0.347480\n"
     ]
    }
   ],
   "source": [
    "# 3 方法\n",
    "print(data.head(2))\n",
    "print(\"*\"*30)\n",
    "print(data.tail(3))"
   ]
  },
  {
   "cell_type": "markdown",
   "metadata": {},
   "source": [
    "####  索引的设置  "
   ]
  },
  {
   "cell_type": "code",
   "execution_count": 8,
   "metadata": {},
   "outputs": [
    {
     "name": "stdout",
     "output_type": "stream",
     "text": [
      "股票3\n",
      "['股票_1', '股票_2', '股票_3', '股票_4', '股票_5', '股票_6', '股票_7', '股票_8', '股票_9', '股票_10']\n"
     ]
    },
    {
     "data": {
      "text/html": [
       "<div>\n",
       "<style scoped>\n",
       "    .dataframe tbody tr th:only-of-type {\n",
       "        vertical-align: middle;\n",
       "    }\n",
       "\n",
       "    .dataframe tbody tr th {\n",
       "        vertical-align: top;\n",
       "    }\n",
       "\n",
       "    .dataframe thead th {\n",
       "        text-align: right;\n",
       "    }\n",
       "</style>\n",
       "<table border=\"1\" class=\"dataframe\">\n",
       "  <thead>\n",
       "    <tr style=\"text-align: right;\">\n",
       "      <th></th>\n",
       "      <th>2018-01-01</th>\n",
       "      <th>2018-01-02</th>\n",
       "      <th>2018-01-03</th>\n",
       "      <th>2018-01-04</th>\n",
       "      <th>2018-01-05</th>\n",
       "    </tr>\n",
       "  </thead>\n",
       "  <tbody>\n",
       "    <tr>\n",
       "      <th>股票_1</th>\n",
       "      <td>1.021675</td>\n",
       "      <td>2.726083</td>\n",
       "      <td>0.902750</td>\n",
       "      <td>1.158937</td>\n",
       "      <td>1.212786</td>\n",
       "    </tr>\n",
       "    <tr>\n",
       "      <th>股票_2</th>\n",
       "      <td>-1.756366</td>\n",
       "      <td>-1.651756</td>\n",
       "      <td>-1.131361</td>\n",
       "      <td>0.476350</td>\n",
       "      <td>-1.205420</td>\n",
       "    </tr>\n",
       "    <tr>\n",
       "      <th>股票_3</th>\n",
       "      <td>-0.497655</td>\n",
       "      <td>0.782345</td>\n",
       "      <td>-1.158261</td>\n",
       "      <td>-1.061831</td>\n",
       "      <td>-1.252951</td>\n",
       "    </tr>\n",
       "    <tr>\n",
       "      <th>股票_4</th>\n",
       "      <td>0.200571</td>\n",
       "      <td>-0.053058</td>\n",
       "      <td>-1.228669</td>\n",
       "      <td>-1.237707</td>\n",
       "      <td>1.509725</td>\n",
       "    </tr>\n",
       "    <tr>\n",
       "      <th>股票_5</th>\n",
       "      <td>0.123887</td>\n",
       "      <td>-1.543537</td>\n",
       "      <td>1.018877</td>\n",
       "      <td>-1.827843</td>\n",
       "      <td>-0.148104</td>\n",
       "    </tr>\n",
       "    <tr>\n",
       "      <th>股票_6</th>\n",
       "      <td>1.303803</td>\n",
       "      <td>-0.045839</td>\n",
       "      <td>-0.830083</td>\n",
       "      <td>-0.080790</td>\n",
       "      <td>0.620762</td>\n",
       "    </tr>\n",
       "    <tr>\n",
       "      <th>股票_7</th>\n",
       "      <td>-0.777358</td>\n",
       "      <td>-1.432619</td>\n",
       "      <td>0.792113</td>\n",
       "      <td>0.003647</td>\n",
       "      <td>1.436981</td>\n",
       "    </tr>\n",
       "    <tr>\n",
       "      <th>股票_8</th>\n",
       "      <td>-0.130591</td>\n",
       "      <td>-0.470762</td>\n",
       "      <td>1.008662</td>\n",
       "      <td>-0.028413</td>\n",
       "      <td>-1.177112</td>\n",
       "    </tr>\n",
       "    <tr>\n",
       "      <th>股票_9</th>\n",
       "      <td>-0.589597</td>\n",
       "      <td>0.345504</td>\n",
       "      <td>-0.267283</td>\n",
       "      <td>0.344782</td>\n",
       "      <td>-0.560778</td>\n",
       "    </tr>\n",
       "    <tr>\n",
       "      <th>股票_10</th>\n",
       "      <td>0.691755</td>\n",
       "      <td>-0.153980</td>\n",
       "      <td>0.020515</td>\n",
       "      <td>-0.196234</td>\n",
       "      <td>0.347480</td>\n",
       "    </tr>\n",
       "  </tbody>\n",
       "</table>\n",
       "</div>"
      ],
      "text/plain": [
       "       2018-01-01  2018-01-02  2018-01-03  2018-01-04  2018-01-05\n",
       "股票_1     1.021675    2.726083    0.902750    1.158937    1.212786\n",
       "股票_2    -1.756366   -1.651756   -1.131361    0.476350   -1.205420\n",
       "股票_3    -0.497655    0.782345   -1.158261   -1.061831   -1.252951\n",
       "股票_4     0.200571   -0.053058   -1.228669   -1.237707    1.509725\n",
       "股票_5     0.123887   -1.543537    1.018877   -1.827843   -0.148104\n",
       "股票_6     1.303803   -0.045839   -0.830083   -0.080790    0.620762\n",
       "股票_7    -0.777358   -1.432619    0.792113    0.003647    1.436981\n",
       "股票_8    -0.130591   -0.470762    1.008662   -0.028413   -1.177112\n",
       "股票_9    -0.589597    0.345504   -0.267283    0.344782   -0.560778\n",
       "股票_10    0.691755   -0.153980    0.020515   -0.196234    0.347480"
      ]
     },
     "execution_count": 8,
     "metadata": {},
     "output_type": "execute_result"
    }
   ],
   "source": [
    "# 4.1 修改行列索引的值 \n",
    "print(data.index[2]) \n",
    "# data.index[2] = \"股票3\" # 不能单独修改某个索引\n",
    "stock_ = [f\"股票_{i+1}\" for i in range(10)]\n",
    "print(stock_)\n",
    "data = pd.DataFrame(stock_change,index=stock_,columns=date)\n",
    "data"
   ]
  },
  {
   "cell_type": "code",
   "execution_count": 9,
   "metadata": {},
   "outputs": [
    {
     "data": {
      "text/html": [
       "<div>\n",
       "<style scoped>\n",
       "    .dataframe tbody tr th:only-of-type {\n",
       "        vertical-align: middle;\n",
       "    }\n",
       "\n",
       "    .dataframe tbody tr th {\n",
       "        vertical-align: top;\n",
       "    }\n",
       "\n",
       "    .dataframe thead th {\n",
       "        text-align: right;\n",
       "    }\n",
       "</style>\n",
       "<table border=\"1\" class=\"dataframe\">\n",
       "  <thead>\n",
       "    <tr style=\"text-align: right;\">\n",
       "      <th></th>\n",
       "      <th>index</th>\n",
       "      <th>2018-01-01 00:00:00</th>\n",
       "      <th>2018-01-02 00:00:00</th>\n",
       "      <th>2018-01-03 00:00:00</th>\n",
       "      <th>2018-01-04 00:00:00</th>\n",
       "      <th>2018-01-05 00:00:00</th>\n",
       "    </tr>\n",
       "  </thead>\n",
       "  <tbody>\n",
       "    <tr>\n",
       "      <th>0</th>\n",
       "      <td>股票_1</td>\n",
       "      <td>1.021675</td>\n",
       "      <td>2.726083</td>\n",
       "      <td>0.902750</td>\n",
       "      <td>1.158937</td>\n",
       "      <td>1.212786</td>\n",
       "    </tr>\n",
       "    <tr>\n",
       "      <th>1</th>\n",
       "      <td>股票_2</td>\n",
       "      <td>-1.756366</td>\n",
       "      <td>-1.651756</td>\n",
       "      <td>-1.131361</td>\n",
       "      <td>0.476350</td>\n",
       "      <td>-1.205420</td>\n",
       "    </tr>\n",
       "    <tr>\n",
       "      <th>2</th>\n",
       "      <td>股票_3</td>\n",
       "      <td>-0.497655</td>\n",
       "      <td>0.782345</td>\n",
       "      <td>-1.158261</td>\n",
       "      <td>-1.061831</td>\n",
       "      <td>-1.252951</td>\n",
       "    </tr>\n",
       "    <tr>\n",
       "      <th>3</th>\n",
       "      <td>股票_4</td>\n",
       "      <td>0.200571</td>\n",
       "      <td>-0.053058</td>\n",
       "      <td>-1.228669</td>\n",
       "      <td>-1.237707</td>\n",
       "      <td>1.509725</td>\n",
       "    </tr>\n",
       "    <tr>\n",
       "      <th>4</th>\n",
       "      <td>股票_5</td>\n",
       "      <td>0.123887</td>\n",
       "      <td>-1.543537</td>\n",
       "      <td>1.018877</td>\n",
       "      <td>-1.827843</td>\n",
       "      <td>-0.148104</td>\n",
       "    </tr>\n",
       "    <tr>\n",
       "      <th>5</th>\n",
       "      <td>股票_6</td>\n",
       "      <td>1.303803</td>\n",
       "      <td>-0.045839</td>\n",
       "      <td>-0.830083</td>\n",
       "      <td>-0.080790</td>\n",
       "      <td>0.620762</td>\n",
       "    </tr>\n",
       "    <tr>\n",
       "      <th>6</th>\n",
       "      <td>股票_7</td>\n",
       "      <td>-0.777358</td>\n",
       "      <td>-1.432619</td>\n",
       "      <td>0.792113</td>\n",
       "      <td>0.003647</td>\n",
       "      <td>1.436981</td>\n",
       "    </tr>\n",
       "    <tr>\n",
       "      <th>7</th>\n",
       "      <td>股票_8</td>\n",
       "      <td>-0.130591</td>\n",
       "      <td>-0.470762</td>\n",
       "      <td>1.008662</td>\n",
       "      <td>-0.028413</td>\n",
       "      <td>-1.177112</td>\n",
       "    </tr>\n",
       "    <tr>\n",
       "      <th>8</th>\n",
       "      <td>股票_9</td>\n",
       "      <td>-0.589597</td>\n",
       "      <td>0.345504</td>\n",
       "      <td>-0.267283</td>\n",
       "      <td>0.344782</td>\n",
       "      <td>-0.560778</td>\n",
       "    </tr>\n",
       "    <tr>\n",
       "      <th>9</th>\n",
       "      <td>股票_10</td>\n",
       "      <td>0.691755</td>\n",
       "      <td>-0.153980</td>\n",
       "      <td>0.020515</td>\n",
       "      <td>-0.196234</td>\n",
       "      <td>0.347480</td>\n",
       "    </tr>\n",
       "  </tbody>\n",
       "</table>\n",
       "</div>"
      ],
      "text/plain": [
       "   index  2018-01-01 00:00:00  2018-01-02 00:00:00  2018-01-03 00:00:00  \\\n",
       "0   股票_1             1.021675             2.726083             0.902750   \n",
       "1   股票_2            -1.756366            -1.651756            -1.131361   \n",
       "2   股票_3            -0.497655             0.782345            -1.158261   \n",
       "3   股票_4             0.200571            -0.053058            -1.228669   \n",
       "4   股票_5             0.123887            -1.543537             1.018877   \n",
       "5   股票_6             1.303803            -0.045839            -0.830083   \n",
       "6   股票_7            -0.777358            -1.432619             0.792113   \n",
       "7   股票_8            -0.130591            -0.470762             1.008662   \n",
       "8   股票_9            -0.589597             0.345504            -0.267283   \n",
       "9  股票_10             0.691755            -0.153980             0.020515   \n",
       "\n",
       "   2018-01-04 00:00:00  2018-01-05 00:00:00  \n",
       "0             1.158937             1.212786  \n",
       "1             0.476350            -1.205420  \n",
       "2            -1.061831            -1.252951  \n",
       "3            -1.237707             1.509725  \n",
       "4            -1.827843            -0.148104  \n",
       "5            -0.080790             0.620762  \n",
       "6             0.003647             1.436981  \n",
       "7            -0.028413            -1.177112  \n",
       "8             0.344782            -0.560778  \n",
       "9            -0.196234             0.347480  "
      ]
     },
     "execution_count": 9,
     "metadata": {},
     "output_type": "execute_result"
    }
   ],
   "source": [
    " \n",
    "# 4.2 重设索引   # 用处不多\n",
    "# reset_index(drop=False)\n",
    "# 设置新的下标索引\n",
    "# drop:默认为False,不删除原来索引,如果为True,删除原来的索引值\n",
    "\n",
    "data.reset_index()"
   ]
  },
  {
   "cell_type": "code",
   "execution_count": 10,
   "metadata": {},
   "outputs": [],
   "source": [
    "import pandas as pd\n",
    "# .以某列值设置为新的索引\n",
    "#   set_index(keys,drop=True)\n",
    "# ·keys:列索引名成或者列索引名称的列表\n",
    "# ·drop:boolean,default True.当做新的索引,删除原来的列\n",
    "\n",
    "\n",
    "# 4.3 设置新索引 \n",
    "df = pd.DataFrame({'month':[1,4,7,10],\n",
    "                    'year':[2012,2014,2013,2014],\n",
    "                    'sale':[55,40,84,31]})"
   ]
  },
  {
   "cell_type": "code",
   "execution_count": 11,
   "metadata": {},
   "outputs": [
    {
     "data": {
      "text/html": [
       "<div>\n",
       "<style scoped>\n",
       "    .dataframe tbody tr th:only-of-type {\n",
       "        vertical-align: middle;\n",
       "    }\n",
       "\n",
       "    .dataframe tbody tr th {\n",
       "        vertical-align: top;\n",
       "    }\n",
       "\n",
       "    .dataframe thead th {\n",
       "        text-align: right;\n",
       "    }\n",
       "</style>\n",
       "<table border=\"1\" class=\"dataframe\">\n",
       "  <thead>\n",
       "    <tr style=\"text-align: right;\">\n",
       "      <th></th>\n",
       "      <th>month</th>\n",
       "      <th>year</th>\n",
       "      <th>sale</th>\n",
       "    </tr>\n",
       "  </thead>\n",
       "  <tbody>\n",
       "    <tr>\n",
       "      <th>0</th>\n",
       "      <td>1</td>\n",
       "      <td>2012</td>\n",
       "      <td>55</td>\n",
       "    </tr>\n",
       "    <tr>\n",
       "      <th>1</th>\n",
       "      <td>4</td>\n",
       "      <td>2014</td>\n",
       "      <td>40</td>\n",
       "    </tr>\n",
       "    <tr>\n",
       "      <th>2</th>\n",
       "      <td>7</td>\n",
       "      <td>2013</td>\n",
       "      <td>84</td>\n",
       "    </tr>\n",
       "    <tr>\n",
       "      <th>3</th>\n",
       "      <td>10</td>\n",
       "      <td>2014</td>\n",
       "      <td>31</td>\n",
       "    </tr>\n",
       "  </tbody>\n",
       "</table>\n",
       "</div>"
      ],
      "text/plain": [
       "   month  year  sale\n",
       "0      1  2012    55\n",
       "1      4  2014    40\n",
       "2      7  2013    84\n",
       "3     10  2014    31"
      ]
     },
     "execution_count": 11,
     "metadata": {},
     "output_type": "execute_result"
    }
   ],
   "source": [
    "df"
   ]
  },
  {
   "cell_type": "code",
   "execution_count": 12,
   "metadata": {},
   "outputs": [
    {
     "data": {
      "text/html": [
       "<div>\n",
       "<style scoped>\n",
       "    .dataframe tbody tr th:only-of-type {\n",
       "        vertical-align: middle;\n",
       "    }\n",
       "\n",
       "    .dataframe tbody tr th {\n",
       "        vertical-align: top;\n",
       "    }\n",
       "\n",
       "    .dataframe thead th {\n",
       "        text-align: right;\n",
       "    }\n",
       "</style>\n",
       "<table border=\"1\" class=\"dataframe\">\n",
       "  <thead>\n",
       "    <tr style=\"text-align: right;\">\n",
       "      <th></th>\n",
       "      <th>month</th>\n",
       "      <th>year</th>\n",
       "      <th>sale</th>\n",
       "    </tr>\n",
       "    <tr>\n",
       "      <th>month</th>\n",
       "      <th></th>\n",
       "      <th></th>\n",
       "      <th></th>\n",
       "    </tr>\n",
       "  </thead>\n",
       "  <tbody>\n",
       "    <tr>\n",
       "      <th>1</th>\n",
       "      <td>1</td>\n",
       "      <td>2012</td>\n",
       "      <td>55</td>\n",
       "    </tr>\n",
       "    <tr>\n",
       "      <th>4</th>\n",
       "      <td>4</td>\n",
       "      <td>2014</td>\n",
       "      <td>40</td>\n",
       "    </tr>\n",
       "    <tr>\n",
       "      <th>7</th>\n",
       "      <td>7</td>\n",
       "      <td>2013</td>\n",
       "      <td>84</td>\n",
       "    </tr>\n",
       "    <tr>\n",
       "      <th>10</th>\n",
       "      <td>10</td>\n",
       "      <td>2014</td>\n",
       "      <td>31</td>\n",
       "    </tr>\n",
       "  </tbody>\n",
       "</table>\n",
       "</div>"
      ],
      "text/plain": [
       "       month  year  sale\n",
       "month                   \n",
       "1          1  2012    55\n",
       "4          4  2014    40\n",
       "7          7  2013    84\n",
       "10        10  2014    31"
      ]
     },
     "execution_count": 12,
     "metadata": {},
     "output_type": "execute_result"
    }
   ],
   "source": [
    "#以月份设置新的索引\n",
    "df.set_index(\"month\",drop=False)"
   ]
  },
  {
   "cell_type": "code",
   "execution_count": 13,
   "metadata": {},
   "outputs": [
    {
     "data": {
      "text/html": [
       "<div>\n",
       "<style scoped>\n",
       "    .dataframe tbody tr th:only-of-type {\n",
       "        vertical-align: middle;\n",
       "    }\n",
       "\n",
       "    .dataframe tbody tr th {\n",
       "        vertical-align: top;\n",
       "    }\n",
       "\n",
       "    .dataframe thead th {\n",
       "        text-align: right;\n",
       "    }\n",
       "</style>\n",
       "<table border=\"1\" class=\"dataframe\">\n",
       "  <thead>\n",
       "    <tr style=\"text-align: right;\">\n",
       "      <th></th>\n",
       "      <th>year</th>\n",
       "      <th>sale</th>\n",
       "    </tr>\n",
       "    <tr>\n",
       "      <th>month</th>\n",
       "      <th></th>\n",
       "      <th></th>\n",
       "    </tr>\n",
       "  </thead>\n",
       "  <tbody>\n",
       "    <tr>\n",
       "      <th>1</th>\n",
       "      <td>2012</td>\n",
       "      <td>55</td>\n",
       "    </tr>\n",
       "    <tr>\n",
       "      <th>4</th>\n",
       "      <td>2014</td>\n",
       "      <td>40</td>\n",
       "    </tr>\n",
       "    <tr>\n",
       "      <th>7</th>\n",
       "      <td>2013</td>\n",
       "      <td>84</td>\n",
       "    </tr>\n",
       "    <tr>\n",
       "      <th>10</th>\n",
       "      <td>2014</td>\n",
       "      <td>31</td>\n",
       "    </tr>\n",
       "  </tbody>\n",
       "</table>\n",
       "</div>"
      ],
      "text/plain": [
       "       year  sale\n",
       "month            \n",
       "1      2012    55\n",
       "4      2014    40\n",
       "7      2013    84\n",
       "10     2014    31"
      ]
     },
     "execution_count": 13,
     "metadata": {},
     "output_type": "execute_result"
    }
   ],
   "source": [
    "df.set_index(\"month\")"
   ]
  },
  {
   "cell_type": "code",
   "execution_count": 14,
   "metadata": {},
   "outputs": [
    {
     "name": "stdout",
     "output_type": "stream",
     "text": [
      "MultiIndex([(2012,  1),\n",
      "            (2014,  4),\n",
      "            (2013,  7),\n",
      "            (2014, 10)],\n",
      "           names=['year', 'month'])\n"
     ]
    },
    {
     "data": {
      "text/html": [
       "<div>\n",
       "<style scoped>\n",
       "    .dataframe tbody tr th:only-of-type {\n",
       "        vertical-align: middle;\n",
       "    }\n",
       "\n",
       "    .dataframe tbody tr th {\n",
       "        vertical-align: top;\n",
       "    }\n",
       "\n",
       "    .dataframe thead th {\n",
       "        text-align: right;\n",
       "    }\n",
       "</style>\n",
       "<table border=\"1\" class=\"dataframe\">\n",
       "  <thead>\n",
       "    <tr style=\"text-align: right;\">\n",
       "      <th></th>\n",
       "      <th></th>\n",
       "      <th>sale</th>\n",
       "    </tr>\n",
       "    <tr>\n",
       "      <th>year</th>\n",
       "      <th>month</th>\n",
       "      <th></th>\n",
       "    </tr>\n",
       "  </thead>\n",
       "  <tbody>\n",
       "    <tr>\n",
       "      <th>2012</th>\n",
       "      <th>1</th>\n",
       "      <td>55</td>\n",
       "    </tr>\n",
       "    <tr>\n",
       "      <th>2014</th>\n",
       "      <th>4</th>\n",
       "      <td>40</td>\n",
       "    </tr>\n",
       "    <tr>\n",
       "      <th>2013</th>\n",
       "      <th>7</th>\n",
       "      <td>84</td>\n",
       "    </tr>\n",
       "    <tr>\n",
       "      <th>2014</th>\n",
       "      <th>10</th>\n",
       "      <td>31</td>\n",
       "    </tr>\n",
       "  </tbody>\n",
       "</table>\n",
       "</div>"
      ],
      "text/plain": [
       "            sale\n",
       "year month      \n",
       "2012 1        55\n",
       "2014 4        40\n",
       "2013 7        84\n",
       "2014 10       31"
      ]
     },
     "execution_count": 14,
     "metadata": {},
     "output_type": "execute_result"
    }
   ],
   "source": [
    "# 设置多个索引 以年和月份\n",
    "new_df = df.set_index([\"year\",\"month\"]) #注:通过设置,DataFram就变成了一个具有Multilndex的DataFrame.\n",
    "\n",
    "print(new_df.index)\n",
    "\n",
    "new_df"
   ]
  },
  {
   "cell_type": "markdown",
   "metadata": {},
   "source": [
    "### 4.1.3 MultiIndex 与Panel\n"
   ]
  },
  {
   "cell_type": "markdown",
   "metadata": {},
   "source": [
    "#### 1. MultiIndex"
   ]
  },
  {
   "cell_type": "code",
   "execution_count": 15,
   "metadata": {},
   "outputs": [
    {
     "data": {
      "text/plain": [
       "FrozenList(['year', 'month'])"
      ]
     },
     "execution_count": 15,
     "metadata": {},
     "output_type": "execute_result"
    }
   ],
   "source": [
    "\n",
    "# index 属性: \n",
    "#     names: levels的名称\n",
    "#     levels:每个level的元组值\n",
    "new_df.index.names"
   ]
  },
  {
   "cell_type": "code",
   "execution_count": 16,
   "metadata": {},
   "outputs": [
    {
     "data": {
      "text/plain": [
       "FrozenList([[2012, 2013, 2014], [1, 4, 7, 10]])"
      ]
     },
     "execution_count": 16,
     "metadata": {},
     "output_type": "execute_result"
    }
   ],
   "source": [
    "new_df.index.levels"
   ]
  },
  {
   "cell_type": "markdown",
   "metadata": {},
   "source": [
    "#### 2. Panel (已弃用)"
   ]
  },
  {
   "cell_type": "code",
   "execution_count": 17,
   "metadata": {},
   "outputs": [
    {
     "ename": "AttributeError",
     "evalue": "module 'pandas' has no attribute 'Panel'",
     "output_type": "error",
     "traceback": [
      "\u001b[1;31m---------------------------------------------------------------------------\u001b[0m",
      "\u001b[1;31mAttributeError\u001b[0m                            Traceback (most recent call last)",
      "Cell \u001b[1;32mIn[17], line 3\u001b[0m\n\u001b[0;32m      1\u001b[0m \u001b[38;5;28;01mimport\u001b[39;00m \u001b[38;5;21;01mnumpy\u001b[39;00m \u001b[38;5;28;01mas\u001b[39;00m \u001b[38;5;21;01mnp\u001b[39;00m\n\u001b[0;32m      2\u001b[0m \u001b[38;5;28;01mimport\u001b[39;00m \u001b[38;5;21;01mpandas\u001b[39;00m \u001b[38;5;28;01mas\u001b[39;00m \u001b[38;5;21;01mpd\u001b[39;00m\n\u001b[1;32m----> 3\u001b[0m p \u001b[38;5;241m=\u001b[39m \u001b[43mpd\u001b[49m\u001b[38;5;241;43m.\u001b[39;49m\u001b[43mPanel\u001b[49m(np\u001b[38;5;241m.\u001b[39marray(\u001b[38;5;241m24\u001b[39m)\u001b[38;5;241m.\u001b[39mreshape(\u001b[38;5;241m4\u001b[39m,\u001b[38;5;241m3\u001b[39m,\u001b[38;5;241m2\u001b[39m),\n\u001b[0;32m      4\u001b[0m              items\u001b[38;5;241m=\u001b[39m\u001b[38;5;28mlist\u001b[39m[\u001b[38;5;124m'\u001b[39m\u001b[38;5;124mABCD\u001b[39m\u001b[38;5;124m'\u001b[39m],\n\u001b[0;32m      5\u001b[0m              major_axis\u001b[38;5;241m=\u001b[39mpd\u001b[38;5;241m.\u001b[39mdata_range(\u001b[38;5;124m'\u001b[39m\u001b[38;5;124m20130101\u001b[39m\u001b[38;5;124m'\u001b[39m,periods\u001b[38;5;241m=\u001b[39m\u001b[38;5;241m3\u001b[39m),\n\u001b[0;32m      6\u001b[0m              minor_axis\u001b[38;5;241m=\u001b[39m[\u001b[38;5;124m'\u001b[39m\u001b[38;5;124mfirst\u001b[39m\u001b[38;5;124m'\u001b[39m,\u001b[38;5;124m'\u001b[39m\u001b[38;5;124msecond\u001b[39m\u001b[38;5;124m'\u001b[39m])\n\u001b[0;32m      7\u001b[0m p\n",
      "\u001b[1;31mAttributeError\u001b[0m: module 'pandas' has no attribute 'Panel'"
     ]
    }
   ],
   "source": [
    "import numpy as np\n",
    "import pandas as pd\n",
    "p = pd.Panel(np.array(24).reshape(4,3,2),\n",
    "             items=list['ABCD'],\n",
    "             major_axis=pd.data_range('20130101',periods=3),\n",
    "             minor_axis=['first','second'])\n",
    "p"
   ]
  },
  {
   "cell_type": "markdown",
   "metadata": {},
   "source": [
    "### 4.1.4 Series  \n",
    "    带索引的一维数组.  \n",
    "    只有行索引\n",
    "\n",
    "属性: index, values  \n",
    "方法: "
   ]
  },
  {
   "cell_type": "code",
   "execution_count": null,
   "metadata": {},
   "outputs": [
    {
     "data": {
      "text/html": [
       "<div>\n",
       "<style scoped>\n",
       "    .dataframe tbody tr th:only-of-type {\n",
       "        vertical-align: middle;\n",
       "    }\n",
       "\n",
       "    .dataframe tbody tr th {\n",
       "        vertical-align: top;\n",
       "    }\n",
       "\n",
       "    .dataframe thead th {\n",
       "        text-align: right;\n",
       "    }\n",
       "</style>\n",
       "<table border=\"1\" class=\"dataframe\">\n",
       "  <thead>\n",
       "    <tr style=\"text-align: right;\">\n",
       "      <th></th>\n",
       "      <th>2018-01-01</th>\n",
       "      <th>2018-01-02</th>\n",
       "      <th>2018-01-03</th>\n",
       "      <th>2018-01-04</th>\n",
       "      <th>2018-01-05</th>\n",
       "    </tr>\n",
       "  </thead>\n",
       "  <tbody>\n",
       "    <tr>\n",
       "      <th>股票_1</th>\n",
       "      <td>1.285282</td>\n",
       "      <td>0.904201</td>\n",
       "      <td>-2.095527</td>\n",
       "      <td>-2.209579</td>\n",
       "      <td>0.069798</td>\n",
       "    </tr>\n",
       "    <tr>\n",
       "      <th>股票_2</th>\n",
       "      <td>-0.471220</td>\n",
       "      <td>-1.374783</td>\n",
       "      <td>0.094551</td>\n",
       "      <td>0.325409</td>\n",
       "      <td>0.304745</td>\n",
       "    </tr>\n",
       "    <tr>\n",
       "      <th>股票_3</th>\n",
       "      <td>2.787400</td>\n",
       "      <td>-1.500788</td>\n",
       "      <td>1.691239</td>\n",
       "      <td>-0.583304</td>\n",
       "      <td>-0.155487</td>\n",
       "    </tr>\n",
       "    <tr>\n",
       "      <th>股票_4</th>\n",
       "      <td>-0.727471</td>\n",
       "      <td>-0.418444</td>\n",
       "      <td>0.137762</td>\n",
       "      <td>0.487916</td>\n",
       "      <td>1.015779</td>\n",
       "    </tr>\n",
       "    <tr>\n",
       "      <th>股票_5</th>\n",
       "      <td>-1.521013</td>\n",
       "      <td>-0.522335</td>\n",
       "      <td>-0.199272</td>\n",
       "      <td>0.499149</td>\n",
       "      <td>0.274449</td>\n",
       "    </tr>\n",
       "    <tr>\n",
       "      <th>股票_6</th>\n",
       "      <td>0.432487</td>\n",
       "      <td>-0.389577</td>\n",
       "      <td>-1.581655</td>\n",
       "      <td>-0.442407</td>\n",
       "      <td>-0.501114</td>\n",
       "    </tr>\n",
       "    <tr>\n",
       "      <th>股票_7</th>\n",
       "      <td>1.624606</td>\n",
       "      <td>2.902537</td>\n",
       "      <td>0.703359</td>\n",
       "      <td>1.497414</td>\n",
       "      <td>-0.671857</td>\n",
       "    </tr>\n",
       "    <tr>\n",
       "      <th>股票_8</th>\n",
       "      <td>0.539920</td>\n",
       "      <td>1.145140</td>\n",
       "      <td>0.322813</td>\n",
       "      <td>-0.822948</td>\n",
       "      <td>0.292674</td>\n",
       "    </tr>\n",
       "    <tr>\n",
       "      <th>股票_9</th>\n",
       "      <td>-1.727199</td>\n",
       "      <td>0.469651</td>\n",
       "      <td>0.601913</td>\n",
       "      <td>0.445923</td>\n",
       "      <td>-0.513953</td>\n",
       "    </tr>\n",
       "    <tr>\n",
       "      <th>股票_10</th>\n",
       "      <td>0.557170</td>\n",
       "      <td>-0.330087</td>\n",
       "      <td>0.599816</td>\n",
       "      <td>1.400115</td>\n",
       "      <td>-1.275658</td>\n",
       "    </tr>\n",
       "  </tbody>\n",
       "</table>\n",
       "</div>"
      ],
      "text/plain": [
       "       2018-01-01  2018-01-02  2018-01-03  2018-01-04  2018-01-05\n",
       "股票_1     1.285282    0.904201   -2.095527   -2.209579    0.069798\n",
       "股票_2    -0.471220   -1.374783    0.094551    0.325409    0.304745\n",
       "股票_3     2.787400   -1.500788    1.691239   -0.583304   -0.155487\n",
       "股票_4    -0.727471   -0.418444    0.137762    0.487916    1.015779\n",
       "股票_5    -1.521013   -0.522335   -0.199272    0.499149    0.274449\n",
       "股票_6     0.432487   -0.389577   -1.581655   -0.442407   -0.501114\n",
       "股票_7     1.624606    2.902537    0.703359    1.497414   -0.671857\n",
       "股票_8     0.539920    1.145140    0.322813   -0.822948    0.292674\n",
       "股票_9    -1.727199    0.469651    0.601913    0.445923   -0.513953\n",
       "股票_10    0.557170   -0.330087    0.599816    1.400115   -1.275658"
      ]
     },
     "execution_count": 41,
     "metadata": {},
     "output_type": "execute_result"
    }
   ],
   "source": [
    "data\n"
   ]
  },
  {
   "cell_type": "code",
   "execution_count": null,
   "metadata": {},
   "outputs": [],
   "source": [
    "sr = data.iloc[1,:]"
   ]
  },
  {
   "cell_type": "code",
   "execution_count": null,
   "metadata": {},
   "outputs": [
    {
     "name": "stdout",
     "output_type": "stream",
     "text": [
      "DatetimeIndex(['2018-01-01', '2018-01-02', '2018-01-03', '2018-01-04',\n",
      "               '2018-01-05'],\n",
      "              dtype='datetime64[ns]', freq='B')\n",
      "[-0.47122017 -1.37478322  0.09455136  0.3254089   0.30474456]\n",
      "<class 'pandas.core.indexes.datetimes.DatetimeIndex'>\n",
      "<class 'numpy.ndarray'>\n"
     ]
    }
   ],
   "source": [
    "print(sr.index)\n",
    "print(sr.values)\n",
    "print(type(sr.index))\n",
    "print(type(sr.values))"
   ]
  },
  {
   "cell_type": "markdown",
   "metadata": {},
   "source": [
    "#### 1. 创建Series \n",
    "通过已有数据创建   \n",
    "    * 指定内容,默认索引  \n",
    "    * 指定索引  \n",
    "通过字典数据创建  "
   ]
  },
  {
   "cell_type": "code",
   "execution_count": null,
   "metadata": {},
   "outputs": [
    {
     "data": {
      "text/plain": [
       "0    3\n",
       "1    5\n",
       "2    7\n",
       "dtype: int64"
      ]
     },
     "execution_count": 49,
     "metadata": {},
     "output_type": "execute_result"
    }
   ],
   "source": [
    "import numpy as np\n",
    "import pandas as pd\n",
    "pd.Series(np.arange(3,9,2)) #* 指定内容,默认索引"
   ]
  },
  {
   "cell_type": "code",
   "execution_count": null,
   "metadata": {},
   "outputs": [
    {
     "data": {
      "text/plain": [
       "a    3\n",
       "b    5\n",
       "c    7\n",
       "dtype: int64"
      ]
     },
     "execution_count": 50,
     "metadata": {},
     "output_type": "execute_result"
    }
   ],
   "source": [
    "import numpy as np\n",
    "import pandas as pd\n",
    "pd.Series(np.arange(3,9,2),index=['a','b','c']) #* 指定索引  "
   ]
  },
  {
   "cell_type": "markdown",
   "metadata": {},
   "source": [
    "总结:  \n",
    "    DataFrame是Series的容器  \n",
    "    Panel是DataFrame的容器"
   ]
  },
  {
   "cell_type": "markdown",
   "metadata": {},
   "source": [
    "## 4.2 基本数据操作"
   ]
  },
  {
   "cell_type": "markdown",
   "metadata": {},
   "source": [
    " 4.2.1索引操作  \n",
    "    1 直接索引  (必须先列后行)  \n",
    "        data['行索引名字']['列索引名字']   \n",
    "    2 按名字索引  \n",
    "        data.loc['行索引名字']['列索引名字']  \n",
    "        data.loc['行索引名字','列索引名字']  \n",
    "    3 按数字索引  \n",
    "        data.iloc[1,0]  \n",
    "    4 组合索引(数字,名字混用)   # 可能未来被弃用\n",
    "        data.ix[0:4,['A','B']]\n",
    " 4.2.2赋值操作  \n",
    "    #直接修改原来的值\n",
    "        data['close'] = 1\n",
    "    #或者\n",
    "        data.close = 1\n",
    "\n",
    " 4.2.3排序 \n",
    "    对内容排序\n",
    "     DataFrame  \n",
    "        ·使用df.sort_values(by='a',key=,ascending=)对单个字段的内容进行排序\n",
    "            .单个键或者多个键进行排序,默认升序\n",
    "                ascending=False:降序 \n",
    "                ascending=True:升序\n",
    "        ·多个字段排序df.sort_values(by=['a','b'],ascending=True)\n",
    "     Series\n",
    "        sr=data['a'].sort_values(ascending=True)\n",
    "    对索引排序\n",
    "     DataFrame \n",
    "        data.sort_index() \n",
    "     Series  \n",
    "        sr.sort_values(ascending=True)\n",
    " 4.2.4总结  "
   ]
  },
  {
   "cell_type": "markdown",
   "metadata": {},
   "source": [
    "## 4.3 DataFrame 运算"
   ]
  },
  {
   "cell_type": "markdown",
   "metadata": {},
   "source": [
    "### 4.3.1 算术运算\n"
   ]
  },
  {
   "cell_type": "code",
   "execution_count": null,
   "metadata": {},
   "outputs": [],
   "source": [
    "data[\"A\"].add(3) # Series:对某列加3\n",
    "data + 10 # DataFrame 每个加10\n",
    "data.sub(10) # DataFrame 每个减10"
   ]
  },
  {
   "cell_type": "markdown",
   "metadata": {},
   "source": [
    "### 4.3.2 逻辑运算  \n",
    "1. 逻辑运算符 < > | &\n",
    "2. 逻辑运算函数 query(), isin()\n",
    "\n"
   ]
  },
  {
   "cell_type": "code",
   "execution_count": null,
   "metadata": {},
   "outputs": [],
   "source": [
    "data['p_change'] > 2 # 返回带索引的布尔值\n",
    "data[data['p_change'] > 2] # 筛选 p_change>2 的DataFrame"
   ]
  },
  {
   "cell_type": "code",
   "execution_count": null,
   "metadata": {},
   "outputs": [],
   "source": [
    "# query(expression) 更方便\n",
    "data.query(\"p_change > 2 & turnover > 15\")"
   ]
  },
  {
   "cell_type": "code",
   "execution_count": null,
   "metadata": {},
   "outputs": [],
   "source": [
    "# isin(values)\n",
    "# 判断'turnover'是否为4.19,2.39, 并筛选\n",
    "data[data['turnover'].isin([4.19,2.39])]"
   ]
  },
  {
   "cell_type": "markdown",
   "metadata": {},
   "source": [
    "### 4.3.3 统计运算  \n",
    "min max mean median var  std ..."
   ]
  },
  {
   "cell_type": "code",
   "execution_count": null,
   "metadata": {},
   "outputs": [],
   "source": [
    "# 1 describe()\n",
    "# 综合分析:能够直接得出很多统计结果,count,mean,std,min,max等\n",
    "# 计算平均值、标准差、最大值、最小值\n",
    "data.describe()\n",
    "\n",
    "#2 统计函数\n",
    "data.max(axis=0) # 默认按列(axis=0), 列(axis=1)求最大值\n",
    "data.idxmax()    # 最大值所在索引\n",
    "\n",
    "# 累计统计函数\n",
    "# cumsum(),cummax(),cummin(),cumprod() 前n个数据的和,最大/最小值,乘\n",
    "data['p_change'].sort_index().cumsum().plot() # "
   ]
  },
  {
   "cell_type": "markdown",
   "metadata": {},
   "source": [
    "### 4.3.4 自定义运算"
   ]
  },
  {
   "cell_type": "code",
   "execution_count": null,
   "metadata": {},
   "outputs": [],
   "source": [
    "apply(func,axis=0)\n",
    "    ·func:自定义函数\n",
    "    ·axis=0:默认是列,axis=1 为行进行运算\n",
    "定义一个对列,最大值-最小值的函数\n",
    "data.apply(lambda x : x.max()-x.min())"
   ]
  },
  {
   "cell_type": "markdown",
   "metadata": {},
   "source": [
    "## 4.4 Pandas画图"
   ]
  },
  {
   "cell_type": "code",
   "execution_count": null,
   "metadata": {},
   "outputs": [],
   "source": [
    "# sr.plot()\n",
    "# dataframe.plot(x=None,y=None,kind='line')\n",
    "x label or position,default None\n",
    "y:label,position or list of label,positions,default None\n",
    "    Allows plotting of one column versus anothero \n",
    "kind: str\n",
    "    'line':line plot (default)\n",
    "    'bar':vertical bar plot\n",
    "    'barh':horizontal bar plot\n",
    "    'hist':histogram\n",
    "    'pie':pie plot\n",
    "    'scatter':scatter plot\n"
   ]
  },
  {
   "cell_type": "code",
   "execution_count": null,
   "metadata": {},
   "outputs": [],
   "source": [
    "data.plot(x=\"p_change\",y=\"turnover\",kind=\"scatter\")"
   ]
  },
  {
   "cell_type": "markdown",
   "metadata": {},
   "source": [
    "## 4.5 文件读取与存储"
   ]
  },
  {
   "cell_type": "markdown",
   "metadata": {},
   "source": [
    "## 4.6 高级处理-缺失值处理"
   ]
  },
  {
   "cell_type": "markdown",
   "metadata": {},
   "source": [
    "## 4.7 高级处理-数据离散化"
   ]
  },
  {
   "cell_type": "markdown",
   "metadata": {},
   "source": [
    "## 4.8 高级处理-合并"
   ]
  },
  {
   "cell_type": "markdown",
   "metadata": {},
   "source": [
    "## 4.9 高级处理-交叉表与透视表"
   ]
  },
  {
   "cell_type": "markdown",
   "metadata": {},
   "source": [
    "## 4.10 高级处理-分组与聚合"
   ]
  },
  {
   "cell_type": "markdown",
   "metadata": {},
   "source": [
    "## 4.11 综合案例"
   ]
  }
 ],
 "metadata": {
  "kernelspec": {
   "display_name": "Python 3",
   "language": "python",
   "name": "python3"
  },
  "language_info": {
   "codemirror_mode": {
    "name": "ipython",
    "version": 3
   },
   "file_extension": ".py",
   "mimetype": "text/x-python",
   "name": "python",
   "nbconvert_exporter": "python",
   "pygments_lexer": "ipython3",
   "version": "3.12.4"
  }
 },
 "nbformat": 4,
 "nbformat_minor": 2
}
